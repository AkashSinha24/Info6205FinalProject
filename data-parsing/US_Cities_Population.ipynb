{
 "cells": [
  {
   "cell_type": "markdown",
   "metadata": {},
   "source": [
    "# Fetching US Cities Population"
   ]
  },
  {
   "cell_type": "markdown",
   "metadata": {},
   "source": [
    "Implemented Beautiful Soup for parsing and extracting data about the human population for various cities in United States of America from the website (link: http://worldpopulationreview.com/us-cities/ )\n",
    "A function named get_soup() is defined that takes the above link as an argument. In this function the Python library Beautiful Soap is used for parsing the html data. This parsed HTML data contains the city wise population of USA stored in various HTML tags and CSS classes. This city wise data is then extracted by using the appropriate “class” attribute present in the parsed data and is stored as a table. The table data is parsed as a string which is then populated in a .csv file."
   ]
  },
  {
   "cell_type": "code",
   "execution_count": 3,
   "metadata": {},
   "outputs": [
    {
     "ename": "ModuleNotFoundError",
     "evalue": "No module named 'fake_useragent'",
     "output_type": "error",
     "traceback": [
      "\u001b[1;31m---------------------------------------------------------------------------\u001b[0m",
      "\u001b[1;31mModuleNotFoundError\u001b[0m                       Traceback (most recent call last)",
      "\u001b[1;32m<ipython-input-3-acffd9459a6f>\u001b[0m in \u001b[0;36m<module>\u001b[1;34m\u001b[0m\n\u001b[0;32m      4\u001b[0m \u001b[1;32mimport\u001b[0m \u001b[0mpandas\u001b[0m \u001b[1;32mas\u001b[0m \u001b[0mpd\u001b[0m\u001b[1;33m\u001b[0m\u001b[1;33m\u001b[0m\u001b[0m\n\u001b[0;32m      5\u001b[0m \u001b[1;32mfrom\u001b[0m \u001b[0mtqdm\u001b[0m \u001b[1;32mimport\u001b[0m \u001b[0mtqdm_notebook\u001b[0m\u001b[1;33m\u001b[0m\u001b[1;33m\u001b[0m\u001b[0m\n\u001b[1;32m----> 6\u001b[1;33m \u001b[1;32mfrom\u001b[0m \u001b[0mfake_useragent\u001b[0m \u001b[1;32mimport\u001b[0m \u001b[0mUserAgent\u001b[0m\u001b[1;33m\u001b[0m\u001b[1;33m\u001b[0m\u001b[0m\n\u001b[0m",
      "\u001b[1;31mModuleNotFoundError\u001b[0m: No module named 'fake_useragent'"
     ]
    }
   ],
   "source": [
    "import requests\n",
    "from bs4 import BeautifulSoup\n",
    "from typing import Dict, List\n",
    "import pandas as pd\n",
    "from tqdm import tqdm_notebook\n",
    "from fake_useragent import UserAgent"
   ]
  },
  {
   "cell_type": "code",
   "execution_count": 4,
   "metadata": {},
   "outputs": [],
   "source": [
    "def get_soup(url):\n",
    "    res = requests.get(url, headers={'User-Agent': UserAgent().chrome})\n",
    "    html = res.content\n",
    "    soup = BeautifulSoup(html, 'lxml')\n",
    "    return soup"
   ]
  },
  {
   "cell_type": "code",
   "execution_count": 3,
   "metadata": {},
   "outputs": [],
   "source": [
    "population_link = \"http://worldpopulationreview.com/us-cities/\""
   ]
  },
  {
   "cell_type": "code",
   "execution_count": 4,
   "metadata": {},
   "outputs": [],
   "source": [
    "soup = get_soup(population_link)\n",
    "table = soup.find(\"table\", attrs={\"class\":\"jsx-1487038798 table table-striped tp-table-body\"})"
   ]
  },
  {
   "cell_type": "code",
   "execution_count": 5,
   "metadata": {},
   "outputs": [
    {
     "data": {
      "text/html": [
       "<div>\n",
       "<style scoped>\n",
       "    .dataframe tbody tr th:only-of-type {\n",
       "        vertical-align: middle;\n",
       "    }\n",
       "\n",
       "    .dataframe tbody tr th {\n",
       "        vertical-align: top;\n",
       "    }\n",
       "\n",
       "    .dataframe thead th {\n",
       "        text-align: right;\n",
       "    }\n",
       "</style>\n",
       "<table border=\"1\" class=\"dataframe\">\n",
       "  <thead>\n",
       "    <tr style=\"text-align: right;\">\n",
       "      <th></th>\n",
       "      <th>Rank</th>\n",
       "      <th>Name</th>\n",
       "      <th>State</th>\n",
       "      <th>2020 Pop</th>\n",
       "      <th>2010 Census</th>\n",
       "      <th>Change</th>\n",
       "      <th>Density (km²)</th>\n",
       "      <th>Area (km²)</th>\n",
       "    </tr>\n",
       "  </thead>\n",
       "  <tbody>\n",
       "    <tr>\n",
       "      <th>0</th>\n",
       "      <td>1</td>\n",
       "      <td>New York City</td>\n",
       "      <td>New York</td>\n",
       "      <td>8323340</td>\n",
       "      <td>8190360</td>\n",
       "      <td>1.62%</td>\n",
       "      <td>10699</td>\n",
       "      <td>778</td>\n",
       "    </tr>\n",
       "    <tr>\n",
       "      <th>1</th>\n",
       "      <td>2</td>\n",
       "      <td>Los Angeles</td>\n",
       "      <td>California</td>\n",
       "      <td>4015940</td>\n",
       "      <td>3795370</td>\n",
       "      <td>5.81%</td>\n",
       "      <td>3306</td>\n",
       "      <td>1215</td>\n",
       "    </tr>\n",
       "    <tr>\n",
       "      <th>2</th>\n",
       "      <td>3</td>\n",
       "      <td>Chicago</td>\n",
       "      <td>Illinois</td>\n",
       "      <td>2694240</td>\n",
       "      <td>2697530</td>\n",
       "      <td>-0.12%</td>\n",
       "      <td>4575</td>\n",
       "      <td>589</td>\n",
       "    </tr>\n",
       "    <tr>\n",
       "      <th>3</th>\n",
       "      <td>4</td>\n",
       "      <td>Houston</td>\n",
       "      <td>Texas</td>\n",
       "      <td>2340890</td>\n",
       "      <td>2098450</td>\n",
       "      <td>11.55%</td>\n",
       "      <td>1412</td>\n",
       "      <td>1658</td>\n",
       "    </tr>\n",
       "    <tr>\n",
       "      <th>4</th>\n",
       "      <td>5</td>\n",
       "      <td>Phoenix</td>\n",
       "      <td>Arizona</td>\n",
       "      <td>1703080</td>\n",
       "      <td>1449300</td>\n",
       "      <td>17.51%</td>\n",
       "      <td>1270</td>\n",
       "      <td>1341</td>\n",
       "    </tr>\n",
       "    <tr>\n",
       "      <th>...</th>\n",
       "      <td>...</td>\n",
       "      <td>...</td>\n",
       "      <td>...</td>\n",
       "      <td>...</td>\n",
       "      <td>...</td>\n",
       "      <td>...</td>\n",
       "      <td>...</td>\n",
       "      <td>...</td>\n",
       "    </tr>\n",
       "    <tr>\n",
       "      <th>195</th>\n",
       "      <td>196</td>\n",
       "      <td>Miramar</td>\n",
       "      <td>Florida</td>\n",
       "      <td>143219</td>\n",
       "      <td>122299</td>\n",
       "      <td>17.11%</td>\n",
       "      <td>1917</td>\n",
       "      <td>75</td>\n",
       "    </tr>\n",
       "    <tr>\n",
       "      <th>196</th>\n",
       "      <td>197</td>\n",
       "      <td>Bridgeport</td>\n",
       "      <td>Connecticut</td>\n",
       "      <td>143010</td>\n",
       "      <td>144858</td>\n",
       "      <td>-1.28%</td>\n",
       "      <td>3437</td>\n",
       "      <td>42</td>\n",
       "    </tr>\n",
       "    <tr>\n",
       "      <th>197</th>\n",
       "      <td>198</td>\n",
       "      <td>Olathe</td>\n",
       "      <td>Kansas</td>\n",
       "      <td>142841</td>\n",
       "      <td>126249</td>\n",
       "      <td>13.14%</td>\n",
       "      <td>895</td>\n",
       "      <td>160</td>\n",
       "    </tr>\n",
       "    <tr>\n",
       "      <th>198</th>\n",
       "      <td>199</td>\n",
       "      <td>Denton</td>\n",
       "      <td>Texas</td>\n",
       "      <td>142173</td>\n",
       "      <td>117058</td>\n",
       "      <td>21.46%</td>\n",
       "      <td>570</td>\n",
       "      <td>249</td>\n",
       "    </tr>\n",
       "    <tr>\n",
       "      <th>199</th>\n",
       "      <td>200</td>\n",
       "      <td>Surprise</td>\n",
       "      <td>Arizona</td>\n",
       "      <td>142049</td>\n",
       "      <td>117674</td>\n",
       "      <td>20.71%</td>\n",
       "      <td>508</td>\n",
       "      <td>280</td>\n",
       "    </tr>\n",
       "  </tbody>\n",
       "</table>\n",
       "<p>200 rows × 8 columns</p>\n",
       "</div>"
      ],
      "text/plain": [
       "     Rank           Name        State  2020 Pop  2010 Census  Change  \\\n",
       "0       1  New York City     New York   8323340      8190360   1.62%   \n",
       "1       2    Los Angeles   California   4015940      3795370   5.81%   \n",
       "2       3        Chicago     Illinois   2694240      2697530  -0.12%   \n",
       "3       4        Houston        Texas   2340890      2098450  11.55%   \n",
       "4       5        Phoenix      Arizona   1703080      1449300  17.51%   \n",
       "..    ...            ...          ...       ...          ...     ...   \n",
       "195   196        Miramar      Florida    143219       122299  17.11%   \n",
       "196   197     Bridgeport  Connecticut    143010       144858  -1.28%   \n",
       "197   198         Olathe       Kansas    142841       126249  13.14%   \n",
       "198   199         Denton        Texas    142173       117058  21.46%   \n",
       "199   200       Surprise      Arizona    142049       117674  20.71%   \n",
       "\n",
       "     Density (km²)  Area (km²)  \n",
       "0            10699         778  \n",
       "1             3306        1215  \n",
       "2             4575         589  \n",
       "3             1412        1658  \n",
       "4             1270        1341  \n",
       "..             ...         ...  \n",
       "195           1917          75  \n",
       "196           3437          42  \n",
       "197            895         160  \n",
       "198            570         249  \n",
       "199            508         280  \n",
       "\n",
       "[200 rows x 8 columns]"
      ]
     },
     "execution_count": 5,
     "metadata": {},
     "output_type": "execute_result"
    }
   ],
   "source": [
    "population = pd.read_html(str(table))[0]\n",
    "population"
   ]
  },
  {
   "cell_type": "code",
   "execution_count": 6,
   "metadata": {},
   "outputs": [],
   "source": [
    "population.to_csv(\"../data/us_top_200_city_population.csv\")"
   ]
  },
  {
   "cell_type": "code",
   "execution_count": null,
   "metadata": {},
   "outputs": [],
   "source": []
  }
 ],
 "metadata": {
  "kernelspec": {
   "display_name": "Python 3",
   "language": "python",
   "name": "python3"
  },
  "language_info": {
   "codemirror_mode": {
    "name": "ipython",
    "version": 3
   },
   "file_extension": ".py",
   "mimetype": "text/x-python",
   "name": "python",
   "nbconvert_exporter": "python",
   "pygments_lexer": "ipython3",
   "version": "3.7.4"
  }
 },
 "nbformat": 4,
 "nbformat_minor": 4
}
