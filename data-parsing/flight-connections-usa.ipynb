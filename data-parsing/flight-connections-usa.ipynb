{
 "cells": [
  {
   "cell_type": "markdown",
   "metadata": {},
   "source": [
    "# Part 1 - Fetching all USA airports information"
   ]
  },
  {
   "cell_type": "markdown",
   "metadata": {},
   "source": [
    "This section handles the extraction, parsing and cleaning of data related to all the airports and their flight connections within the United States of America."
   ]
  },
  {
   "cell_type": "code",
   "execution_count": 13,
   "metadata": {},
   "outputs": [],
   "source": [
    "import requests\n",
    "import re\n",
    "from bs4 import BeautifulSoup\n",
    "import pandas as pd\n",
    "import time\n",
    "import sys\n",
    "import csv\n",
    "import matplotlib.pyplot as plt\n",
    "import seaborn as sns\n",
    "import json\n",
    "import numpy as np\n",
    "import cartopy.crs as ccrs\n",
    "import cartopy.feature as cfeature\n",
    "\n",
    "from typing import Dict, List\n",
    "from tqdm import tqdm_notebook\n",
    "from fake_useragent import UserAgent"
   ]
  },
  {
   "cell_type": "code",
   "execution_count": 14,
   "metadata": {},
   "outputs": [],
   "source": [
    "url_main = \"https://www.flightconnections.com/\"\n",
    "url_codes = \"airport-codes\""
   ]
  },
  {
   "cell_type": "code",
   "execution_count": 15,
   "metadata": {},
   "outputs": [],
   "source": [
    "def get_soup(url):\n",
    "    res = requests.get(url, headers={'User-Agent': UserAgent().chrome})\n",
    "    html = res.content\n",
    "    soup = BeautifulSoup(html, 'lxml')\n",
    "    return soup"
   ]
  },
  {
   "cell_type": "code",
   "execution_count": 16,
   "metadata": {},
   "outputs": [],
   "source": [
    "soup = get_soup(url_main + url_codes)"
   ]
  },
  {
   "cell_type": "markdown",
   "metadata": {},
   "source": [
    "There are numerous airports in USA which handles the incoming and outgoing traffic of the flights from different airlines through out the year. Each airport has a unique airport code which is extracted from the website ( link: https://www.flightconnections.com/airport-codes ). This data is extracted and parsed using Beautiful soup python library. The airport codes are present as a list in the “ul” HTML tag which has the class attribute as “airport-list”."
   ]
  },
  {
   "cell_type": "code",
   "execution_count": 17,
   "metadata": {},
   "outputs": [],
   "source": [
    "airport_list = soup.findAll(\"ul\", attrs={\"class\":\"airport-list\"})\n",
    "airport_list = [airport_group.findAll(\"li\") for airport_group in airport_list]\n",
    "airport_list = sum(airport_list, [])"
   ]
  },
  {
   "cell_type": "markdown",
   "metadata": {},
   "source": [
    "This step is implemented on our modified Data Frame by creating a function that takes in two arguments i.e.. Destination (airport_codes) and source (airport_codes). In this function the data parsing is applied to extract the information such as the destination flights per month. This data is then converted to an integer for storing the int value of the count of destination flights."
   ]
  },
  {
   "cell_type": "code",
   "execution_count": 18,
   "metadata": {},
   "outputs": [
    {
     "data": {
      "text/plain": [
       "'\\n<li>\\n <a href=\"/flights-to-anaa-aaa\" title=\"Direct flights to Anaa (AAA)\">\\n <div class=\"country-airports-info\">\\n <p class=\"airport-city\"><span class=\"airport-code\">AAA</span><span class=\"airport-city-country\">Anaa, French Polynesia</span></p>\\n <p><span class=\"airport-name\">Anaa Airport</span></p>\\n </div>\\n </a>\\n </li>\\n\\nO/P:\\n\\n{\"link\":\"flights-from-anaa-aaa\", \"code\":AAA, \"name\":\"Anaa Airport\", \"city\":\"Anaa\", \"country\":\"French Polynesia\"}\\n'"
      ]
     },
     "execution_count": 18,
     "metadata": {},
     "output_type": "execute_result"
    }
   ],
   "source": [
    "def get_airport_info(airport)->Dict[str,str]:\n",
    "    link = airport.find(\"a\").get(\"href\")\n",
    "    link = link.replace(\"-to-\", \"-from-\")\n",
    "    code = airport.find(\"span\", attrs={\"class\":\"airport-code\"}).text\n",
    "    name = airport.find(\"span\", attrs={\"class\":\"airport-name\"}).text\n",
    "    city_country = airport.find(\"span\", attrs={\"class\":\"airport-city-country\"}).text\n",
    "    cc = city_country.split(\", \")\n",
    "    city = cc[0]\n",
    "    country = cc[1]\n",
    "    return {\"link\":link, \"code\":code, \"name\":name, \"city\":city, \"country\":country}\n",
    "\n",
    "'''\n",
    "<li>\n",
    " <a href=\"/flights-to-anaa-aaa\" title=\"Direct flights to Anaa (AAA)\">\n",
    " <div class=\"country-airports-info\">\n",
    " <p class=\"airport-city\"><span class=\"airport-code\">AAA</span><span class=\"airport-city-country\">Anaa, French Polynesia</span></p>\n",
    " <p><span class=\"airport-name\">Anaa Airport</span></p>\n",
    " </div>\n",
    " </a>\n",
    " </li>\n",
    "\n",
    "O/P:\n",
    "\n",
    "{\"link\":\"flights-from-anaa-aaa\", \"code\":AAA, \"name\":\"Anaa Airport\", \"city\":\"Anaa\", \"country\":\"French Polynesia\"}\n",
    "'''"
   ]
  },
  {
   "cell_type": "markdown",
   "metadata": {},
   "source": [
    "This data now contains all the columns/fields that are related to our analysis, but since we are analyzing the spread of the disease within the United states of America we had to implement a filter on the column that provides the information about the country wise airport codes. After inspecting the website, we observed that there is class attribute that provides with our desired information and thus we implemented a find function which searches for the class attribute and extracts the city and country of the airport code in a text format. A split function is applied on the extracted data to modify it into a more organized tabular format."
   ]
  },
  {
   "cell_type": "code",
   "execution_count": 19,
   "metadata": {},
   "outputs": [
    {
     "name": "stderr",
     "output_type": "stream",
     "text": [
      "<ipython-input-19-c2e010333845>:3: TqdmDeprecationWarning: This function will be removed in tqdm==5.0.0\n",
      "Please use `tqdm.notebook.tqdm` instead of `tqdm.tqdm_notebook`\n",
      "  for airport in tqdm_notebook(airport_list):\n"
     ]
    },
    {
     "data": {
      "application/vnd.jupyter.widget-view+json": {
       "model_id": "aabb3c220e7f4104b06a0c6802c183ed",
       "version_major": 2,
       "version_minor": 0
      },
      "text/plain": [
       "HBox(children=(HTML(value=''), FloatProgress(value=0.0, max=3754.0), HTML(value='')))"
      ]
     },
     "metadata": {},
     "output_type": "display_data"
    },
    {
     "name": "stdout",
     "output_type": "stream",
     "text": [
      "\n"
     ]
    }
   ],
   "source": [
    "airport_info = []\n",
    "\n",
    "for airport in tqdm_notebook(airport_list):\n",
    "    airport = get_airport_info(airport)\n",
    "    if airport[\"country\"] == \"United States\":\n",
    "        airport_info.append(airport)"
   ]
  },
  {
   "cell_type": "code",
   "execution_count": 20,
   "metadata": {},
   "outputs": [],
   "source": [
    "result = pd.DataFrame(airport_info)\n",
    "result.to_csv(\"../data/airport_info.csv\")"
   ]
  },
  {
   "cell_type": "code",
   "execution_count": 21,
   "metadata": {},
   "outputs": [
    {
     "data": {
      "text/html": [
       "<div>\n",
       "<style scoped>\n",
       "    .dataframe tbody tr th:only-of-type {\n",
       "        vertical-align: middle;\n",
       "    }\n",
       "\n",
       "    .dataframe tbody tr th {\n",
       "        vertical-align: top;\n",
       "    }\n",
       "\n",
       "    .dataframe thead th {\n",
       "        text-align: right;\n",
       "    }\n",
       "</style>\n",
       "<table border=\"1\" class=\"dataframe\">\n",
       "  <thead>\n",
       "    <tr style=\"text-align: right;\">\n",
       "      <th></th>\n",
       "      <th>link</th>\n",
       "      <th>code</th>\n",
       "      <th>name</th>\n",
       "      <th>city</th>\n",
       "      <th>country</th>\n",
       "    </tr>\n",
       "  </thead>\n",
       "  <tbody>\n",
       "    <tr>\n",
       "      <th>0</th>\n",
       "      <td>/flights-from-allentown-abe</td>\n",
       "      <td>ABE</td>\n",
       "      <td>Lehigh Valley International Airpo</td>\n",
       "      <td>Allentown</td>\n",
       "      <td>United States</td>\n",
       "    </tr>\n",
       "    <tr>\n",
       "      <th>1</th>\n",
       "      <td>/flights-from-abilene-abi</td>\n",
       "      <td>ABI</td>\n",
       "      <td>Abilene Regional Airport</td>\n",
       "      <td>Abilene</td>\n",
       "      <td>United States</td>\n",
       "    </tr>\n",
       "    <tr>\n",
       "      <th>2</th>\n",
       "      <td>/flights-from-ambler-abl</td>\n",
       "      <td>ABL</td>\n",
       "      <td>Ambler Airport (FAA: AFM)</td>\n",
       "      <td>Ambler</td>\n",
       "      <td>United States</td>\n",
       "    </tr>\n",
       "    <tr>\n",
       "      <th>3</th>\n",
       "      <td>/flights-from-albuquerque-abq</td>\n",
       "      <td>ABQ</td>\n",
       "      <td>Albuquerque International Sunport</td>\n",
       "      <td>Albuquerque</td>\n",
       "      <td>United States</td>\n",
       "    </tr>\n",
       "    <tr>\n",
       "      <th>4</th>\n",
       "      <td>/flights-from-aberdeen-abr</td>\n",
       "      <td>ABR</td>\n",
       "      <td>Aberdeen Regional Airport</td>\n",
       "      <td>Aberdeen</td>\n",
       "      <td>United States</td>\n",
       "    </tr>\n",
       "  </tbody>\n",
       "</table>\n",
       "</div>"
      ],
      "text/plain": [
       "                            link code                               name  \\\n",
       "0    /flights-from-allentown-abe  ABE  Lehigh Valley International Airpo   \n",
       "1      /flights-from-abilene-abi  ABI           Abilene Regional Airport   \n",
       "2       /flights-from-ambler-abl  ABL          Ambler Airport (FAA: AFM)   \n",
       "3  /flights-from-albuquerque-abq  ABQ  Albuquerque International Sunport   \n",
       "4     /flights-from-aberdeen-abr  ABR          Aberdeen Regional Airport   \n",
       "\n",
       "          city        country  \n",
       "0    Allentown  United States  \n",
       "1      Abilene  United States  \n",
       "2       Ambler  United States  \n",
       "3  Albuquerque  United States  \n",
       "4     Aberdeen  United States  "
      ]
     },
     "execution_count": 21,
     "metadata": {},
     "output_type": "execute_result"
    }
   ],
   "source": [
    "airport_info = pd.read_csv(\"../data/airport_info.csv\", index_col=0)\n",
    "airport_info.head()"
   ]
  },
  {
   "cell_type": "markdown",
   "metadata": {},
   "source": [
    "## Visiting every airport link in USA and finding connections in USA"
   ]
  },
  {
   "cell_type": "code",
   "execution_count": 22,
   "metadata": {},
   "outputs": [],
   "source": [
    "def get_airport_info(destination, source_airport)->Dict[str,str]:\n",
    "    name = destination.find(\"div\", attrs={\"class\":\"popular-destination-airport-name\"}).text\n",
    "    destination_code = re.findall(\"\\((.*?)\\)\", name)[0]\n",
    "    country = destination.find(\"img\").get(\"title\")\n",
    "    \n",
    "    destination_flights_per_month = destination.find(\"span\", attrs={'class':\"float-right\"}).text.strip()\n",
    "    destination_flights_per_month = re.findall('\\d+', destination_flights_per_month)[0]\n",
    "    if destination_flights_per_month.isdigit():\n",
    "        destination_flights_per_month = int(destination_flights_per_month)\n",
    "    \n",
    "    return {\"source_code\":source_airport, \"destination_code\": destination_code, \"flights_per_month\": destination_flights_per_month, \"country\":country}"
   ]
  },
  {
   "cell_type": "markdown",
   "metadata": {},
   "source": [
    "This function is used to extract the data related to the destination airport_codes of the flights that were originating from our concerned airports. As per the observation there are numerous destinations for a flight originating from a source including the international airports. Hence in this function we are extracting the city-country and other details of the destination airport and implementing a filter of “United States”. This filter is applied so that we can extract only those paths (source – destination) which are being used within Unites States of America. This destination airport code information is then appended into the pre-existing data frame.\n",
    "It is then iterated over every airport to find the list of destination airport_codes against each of them. This information is then grouped and appended in the data frame which now consists the vital information on routes such as the Source airport and its numerous destination airports. This is now extracted into .csv file and stored in the data folder as routes.csv."
   ]
  },
  {
   "cell_type": "code",
   "execution_count": 23,
   "metadata": {},
   "outputs": [],
   "source": [
    "def get_destinations_info(url_airport, source_airport)->List[Dict]:\n",
    "#     print(url_main)\n",
    "#     print(url_airport)\n",
    "    flights_info = get_soup(url_main + url_airport)\n",
    "    \n",
    "    popular_destinations = flights_info.findAll(\"a\", attrs={\"class\":\"popular-destination btn\"})\n",
    "    popular_destinations_hidden = flights_info.findAll(\"a\", attrs={\"class\":\"popular-destination btn hide\"})\n",
    "    popular_destinations = popular_destinations_hidden + popular_destinations\n",
    "#     print(popular_destinations)\n",
    "    \n",
    "    destinations_info = []\n",
    "\n",
    "    for destination in tqdm_notebook(popular_destinations):\n",
    "        destination = get_airport_info(destination, source_airport)\n",
    "        if destination[\"country\"] == \"United States\":\n",
    "            destinations_info.append(destination)\n",
    "    return destinations_info"
   ]
  },
  {
   "cell_type": "code",
   "execution_count": null,
   "metadata": {},
   "outputs": [],
   "source": [
    "full_destination_routes = []\n",
    "\n",
    "exceptions = []\n",
    "\n",
    "for row in tqdm_notebook(airport_info.itertuples(), total=airport_info.shape[0]):\n",
    "    url_airport = row.link\n",
    "    print(url_airport)\n",
    "    source_airport = row.code\n",
    "#     print(source_airport)\n",
    "    try:\n",
    "        destinations = get_destinations_info(url_airport, source_airport)\n",
    "        full_destination_routes.extend(destinations)\n",
    "    except Exception as e:\n",
    "        if e == KeyboardInterrupt:\n",
    "            break            \n",
    "        else:\n",
    "            print(e, url_airport, source_code)\n",
    "        exceptions.append([e, url_airport, source_code])\n",
    "    time.sleep(0.5)"
   ]
  },
  {
   "cell_type": "code",
   "execution_count": null,
   "metadata": {},
   "outputs": [],
   "source": [
    "full_destination_routes = pd.DataFrame(full_destination_routes)\n",
    "full_destination_routes.to_csv(\"../data/routes.csv\")"
   ]
  },
  {
   "cell_type": "code",
   "execution_count": null,
   "metadata": {},
   "outputs": [],
   "source": [
    "full_destination_routes.shape"
   ]
  },
  {
   "cell_type": "code",
   "execution_count": null,
   "metadata": {},
   "outputs": [],
   "source": [
    "full_destination_routes"
   ]
  },
  {
   "cell_type": "markdown",
   "metadata": {},
   "source": [
    "# Part 2 - Fetching Airport Data Dump from https://openflights.org/data.html"
   ]
  },
  {
   "cell_type": "markdown",
   "metadata": {},
   "source": [
    "Till now we had done an excellent job to find out the information that provided us the information on all the possible airway routes within the USA. But sadly, this was not enough for us to analyze the rate of spread of disease as we did not have enough details about these routes.\n",
    "In order to fetch a detailed information about various air travel through the various airports we extracted and parsed a data dump from a website (link: https://openflights.org/data.html ). This website has a airport.dat file which consists of an extensive detailed information about every airport such as the latitude, longitude, city, country, time-zone etc.\n",
    "In order to extract the useful information from this data dump we considered only the important columns related to our application and dropped the unnecessary ones. It is then stored in a .csv file which is then further used to perform some pre-processing in order to filter out the information of the airports which are in United States only. This data frame is now a vital data set which helps us in determining the various informative details that can used to analyze the spread of a disease through air travel. This data set is stored in a .csv file in the data folder."
   ]
  },
  {
   "cell_type": "code",
   "execution_count": 25,
   "metadata": {},
   "outputs": [],
   "source": [
    "airport_col = ['ID', 'Name', 'City', 'Country','IATA', 'ICAO', 'Lat', 'Long', 'Alt', \n",
    "               'Timezone', 'DST', 'Tz database time zone', 'type', 'source']\n",
    "airport_data = pd.read_csv(\"https://raw.githubusercontent.com/jpatokal/openflights/master/data/airports.dat\",\n",
    "                        names = airport_col, index_col = 0)\n",
    "airport_data = airport_data.drop(['ICAO','source', 'type','Tz database time zone','DST','Timezone','Alt'], axis=1)\n",
    "airport_data.to_csv(\"../data/airport_data_openflights.csv\")\n"
   ]
  },
  {
   "cell_type": "code",
   "execution_count": 26,
   "metadata": {},
   "outputs": [],
   "source": [
    "#Pre-processing the airport data to filter for United States only and removing unecessary columns.\n",
    "\n",
    "filePath = \"../data/airport_data_openflights.csv\"\n",
    "with open(filePath)\tas csvfile:\n",
    "    reader = csv.DictReader(csvfile)\n",
    "\n",
    "    filePath = \"../data/temp.csv\"\n",
    "    with open(filePath,'w',newline='') as csvfile:\n",
    "#         fieldnames = ['ID','Name','City','Country','IATA','ICAO','Lat','Long','Alt','Timezone','DST','Tz database time zone','type','source']\n",
    "        fieldnames = ['ID','Name','City','Country','IATA','Lat','Long']\n",
    "        writer = csv.DictWriter(csvfile, fieldnames=fieldnames)\n",
    "\n",
    "        for row in reader:\n",
    "            if row['Country'] == \"United States\":\n",
    "                writer.writerow(row)\n",
    "\n",
    "header_list = ['ID','Name','City','Country','IATA','Lat','Long']\n",
    "airport_data = pd.read_csv(\"../data/temp.csv\", names=header_list)\n",
    "# airport_data = pd.read_csv(\"../data/temp.csv\")\n",
    "airport_data = airport_data[~airport_data.IATA.isin([r\"\\N\"])]\n",
    "airport_data.to_csv('../data/airport_data_openflights_cleaned.csv', index=False)"
   ]
  },
  {
   "cell_type": "code",
   "execution_count": 27,
   "metadata": {},
   "outputs": [
    {
     "data": {
      "text/html": [
       "<div>\n",
       "<style scoped>\n",
       "    .dataframe tbody tr th:only-of-type {\n",
       "        vertical-align: middle;\n",
       "    }\n",
       "\n",
       "    .dataframe tbody tr th {\n",
       "        vertical-align: top;\n",
       "    }\n",
       "\n",
       "    .dataframe thead th {\n",
       "        text-align: right;\n",
       "    }\n",
       "</style>\n",
       "<table border=\"1\" class=\"dataframe\">\n",
       "  <thead>\n",
       "    <tr style=\"text-align: right;\">\n",
       "      <th></th>\n",
       "      <th>ID</th>\n",
       "      <th>Name</th>\n",
       "      <th>City</th>\n",
       "      <th>Country</th>\n",
       "      <th>IATA</th>\n",
       "      <th>Lat</th>\n",
       "      <th>Long</th>\n",
       "    </tr>\n",
       "  </thead>\n",
       "  <tbody>\n",
       "    <tr>\n",
       "      <th>0</th>\n",
       "      <td>3411</td>\n",
       "      <td>Barter Island LRRS Airport</td>\n",
       "      <td>Barter Island</td>\n",
       "      <td>United States</td>\n",
       "      <td>BTI</td>\n",
       "      <td>70.134003</td>\n",
       "      <td>-143.582001</td>\n",
       "    </tr>\n",
       "    <tr>\n",
       "      <th>2</th>\n",
       "      <td>3413</td>\n",
       "      <td>Cape Lisburne LRRS Airport</td>\n",
       "      <td>Cape Lisburne</td>\n",
       "      <td>United States</td>\n",
       "      <td>LUR</td>\n",
       "      <td>68.875099</td>\n",
       "      <td>-166.110001</td>\n",
       "    </tr>\n",
       "    <tr>\n",
       "      <th>3</th>\n",
       "      <td>3414</td>\n",
       "      <td>Point Lay LRRS Airport</td>\n",
       "      <td>Point Lay</td>\n",
       "      <td>United States</td>\n",
       "      <td>PIZ</td>\n",
       "      <td>69.732903</td>\n",
       "      <td>-163.005005</td>\n",
       "    </tr>\n",
       "    <tr>\n",
       "      <th>4</th>\n",
       "      <td>3415</td>\n",
       "      <td>Hilo International Airport</td>\n",
       "      <td>Hilo</td>\n",
       "      <td>United States</td>\n",
       "      <td>ITO</td>\n",
       "      <td>19.721399</td>\n",
       "      <td>-155.048004</td>\n",
       "    </tr>\n",
       "    <tr>\n",
       "      <th>5</th>\n",
       "      <td>3416</td>\n",
       "      <td>Orlando Executive Airport</td>\n",
       "      <td>Orlando</td>\n",
       "      <td>United States</td>\n",
       "      <td>ORL</td>\n",
       "      <td>28.545500</td>\n",
       "      <td>-81.332901</td>\n",
       "    </tr>\n",
       "  </tbody>\n",
       "</table>\n",
       "</div>"
      ],
      "text/plain": [
       "     ID                        Name           City        Country IATA  \\\n",
       "0  3411  Barter Island LRRS Airport  Barter Island  United States  BTI   \n",
       "2  3413  Cape Lisburne LRRS Airport  Cape Lisburne  United States  LUR   \n",
       "3  3414      Point Lay LRRS Airport      Point Lay  United States  PIZ   \n",
       "4  3415  Hilo International Airport           Hilo  United States  ITO   \n",
       "5  3416   Orlando Executive Airport        Orlando  United States  ORL   \n",
       "\n",
       "         Lat        Long  \n",
       "0  70.134003 -143.582001  \n",
       "2  68.875099 -166.110001  \n",
       "3  69.732903 -163.005005  \n",
       "4  19.721399 -155.048004  \n",
       "5  28.545500  -81.332901  "
      ]
     },
     "execution_count": 27,
     "metadata": {},
     "output_type": "execute_result"
    }
   ],
   "source": [
    "airport_data.head()"
   ]
  },
  {
   "cell_type": "markdown",
   "metadata": {},
   "source": [
    "# Part3 - Fetching Airport Connections Data Dump From https://openflights.org/data.html"
   ]
  },
  {
   "cell_type": "markdown",
   "metadata": {},
   "source": [
    "The data that we had acquired till now was still incomplete as few more details about a flight trip such as the stops, airline etc. was still missing. In order to achieve those data, we extracted this relevant data dump from the website (link: https://openflights.org/data.html ) which consisted of file name routes.dat. This data is then processed and stored on a connections_world.csv file in the data folder."
   ]
  },
  {
   "cell_type": "code",
   "execution_count": 28,
   "metadata": {},
   "outputs": [],
   "source": [
    "connections_cols = ['Airline', 'Airline ID', 'Source Airport', 'Source Airport ID',\n",
    "              'Dest Airport', 'Dest Airport ID', 'Codeshare', 'Stops', 'equipment']\n",
    "connections_world = pd.read_csv(\"https://raw.githubusercontent.com/jpatokal/openflights/master/data/routes.dat\",\n",
    "                        names = connections_cols)\n",
    "connections_world.to_csv(\"../data/connections_world.csv\")"
   ]
  },
  {
   "cell_type": "code",
   "execution_count": 29,
   "metadata": {},
   "outputs": [
    {
     "data": {
      "text/plain": [
       "(67663, 9)"
      ]
     },
     "execution_count": 29,
     "metadata": {},
     "output_type": "execute_result"
    }
   ],
   "source": [
    "connections_world.shape"
   ]
  },
  {
   "cell_type": "markdown",
   "metadata": {},
   "source": [
    "## Plotting Python Scatter Plot of US Airports across latitude vs longitude"
   ]
  },
  {
   "cell_type": "markdown",
   "metadata": {},
   "source": [
    "In order to visualize the spread of airports across the US we plotted the latitude and longitude of the airports from the data that we had extracted into one of our data frames.\n",
    "In order to plot this, we have used the matplotlib library and have provide the colors of the land and sea along with the borders."
   ]
  },
  {
   "cell_type": "code",
   "execution_count": 30,
   "metadata": {},
   "outputs": [
    {
     "name": "stderr",
     "output_type": "stream",
     "text": [
      "/opt/anaconda3/lib/python3.8/site-packages/cartopy/mpl/geoaxes.py:387: MatplotlibDeprecationWarning: \n",
      "The 'inframe' parameter of draw() was deprecated in Matplotlib 3.3 and will be removed two minor releases later. Use Axes.redraw_in_frame() instead. If any parameter follows 'inframe', they should be passed as keyword, not positionally.\n",
      "  return matplotlib.axes.Axes.draw(self, renderer=renderer,\n"
     ]
    },
    {
     "data": {
      "image/png": "[encoded data removed]",
      "text/plain": [
       "<Figure size 1800x864 with 1 Axes>"
      ]
     },
     "metadata": {
      "needs_background": "light"
     },
     "output_type": "display_data"
    }
   ],
   "source": [
    "# full_destination_routes -> From routes.csv\n",
    "# connections_world -> connections_world.csv\n",
    "# airport_data -> airport_data_openflights_cleaned.csv\n",
    "\n",
    "plt.figure(figsize=(25, 12))\n",
    "plt.title(\"USA airports\")\n",
    "ax = plt.axes(projection=ccrs.PlateCarree())\n",
    "ax.coastlines()\n",
    "ax.add_feature(cfeature.BORDERS)\n",
    "# ax.outline_patch.set_visible(False)\n",
    "ax.add_feature(cfeature.LAND, color='#B68E56')\n",
    "ax.add_feature(cfeature.OCEAN, color='#207D9C')\n",
    "plt.scatter(airport_data.Long, airport_data.Lat, s=3, c='#F9FAEC')\n",
    "plt.xlim(-170, -60)\t\n",
    "plt.ylim(10, 80)\n",
    "sns.despine()\n",
    "plt.show()"
   ]
  },
  {
   "cell_type": "markdown",
   "metadata": {},
   "source": [
    "## Left join US airports destination routes with all connections in world data"
   ]
  },
  {
   "cell_type": "markdown",
   "metadata": {},
   "source": [
    "Now in order to create a complete informative data frame we took the airport routes data set that we had stored earlier and performed a left- join on the flight connections data dump that we recently created. Due to this operation, we have now achieved a data set which contains a detailed information about all the possible travel transactions that can be performed from an airport."
   ]
  },
  {
   "cell_type": "code",
   "execution_count": null,
   "metadata": {},
   "outputs": [],
   "source": [
    "connections = pd.merge(\n",
    "    full_destination_routes,\n",
    "    connections_world,\n",
    "    how='left', \n",
    "    left_on=['source_code', 'destination_code'], \n",
    "    right_on=['Source Airport', 'Dest Airport']\n",
    ")\n",
    "\n",
    "connections.drop(\n",
    "    ['source_code', 'destination_code', 'Codeshare', 'Stops', 'equipment'],\n",
    "    axis=1, inplace=True\n",
    ")\n",
    "\n",
    "connections.columns = connections.columns.str.lower().str.split().str.join(\"_\")\n",
    "connections.head()"
   ]
  },
  {
   "cell_type": "markdown",
   "metadata": {},
   "source": [
    "This is a complete informative data set that we achieved after it was joined, processed and extracted from various data sources, but it still needs some data cleaning operation to be performed on it. So the first step to this is to analyze the amount of null values in our data set."
   ]
  },
  {
   "cell_type": "code",
   "execution_count": null,
   "metadata": {},
   "outputs": [],
   "source": [
    "# Checking if any valuable data is missing\n",
    "connections.isnull().sum()/connections.shape[0]*100"
   ]
  },
  {
   "cell_type": "markdown",
   "metadata": {},
   "source": [
    "## Adding US Airports Longitude and Latitude data to connections table above"
   ]
  },
  {
   "cell_type": "code",
   "execution_count": null,
   "metadata": {},
   "outputs": [],
   "source": [
    "connections = pd.merge(\n",
    "    connections, airport_data[['IATA', 'Lat', 'Long']], left_on='source_airport', right_on='IATA')\n",
    "\n",
    "connections = pd.merge(\n",
    "    connections, airport_data[['IATA', 'Lat', 'Long']], left_on='dest_airport', right_on='IATA')\n",
    "\n",
    "connections.drop(['IATA_x', 'IATA_y'], axis=1, inplace=True)\n",
    "connections.rename(columns={\n",
    "    'Lat_x':'latitude_source', \n",
    "    'Long_x':'longitude_source',\n",
    "    'Lat_y':'latitude_dest',\n",
    "    'Long_y':'longitude_dest'\n",
    "}, inplace=True)\n",
    "connections.head()\n",
    "connections.to_csv(\"../data/temp_connections.csv\")"
   ]
  },
  {
   "cell_type": "markdown",
   "metadata": {},
   "source": [
    "## Adding top 200 fetched US cities population to airport_data"
   ]
  },
  {
   "cell_type": "code",
   "execution_count": null,
   "metadata": {},
   "outputs": [],
   "source": [
    "# Run US_Cities_Population.ipynb first to get the us_top_200_city_population.csv file generated\n",
    "\n",
    "population_city = pd.read_csv(\"../data/us_top_200_city_population.csv\", index_col=0)\n",
    "print(population_city.shape)\n",
    "population_city.head()"
   ]
  },
  {
   "cell_type": "markdown",
   "metadata": {},
   "source": [
    "## Fetching Population Data from a more bigger dataset from opendatasoft.com"
   ]
  },
  {
   "cell_type": "markdown",
   "metadata": {},
   "source": [
    "While moving ahead with the simulation part for this project we realized that in order to create a simulation of the spread of disease we need to include the information about the latitude and longitude of the airports so that a link can be generated between the airports that perform air travel between each other. Hence we added US Airports Longitude and Latitude data to the connections table above by performing a left outer join of the latitude data on the connections table data.\n",
    "So now after performing these operations we had created a base data that can perform an analysis on the spread of any disease in the United States.\n",
    "But in order to determine the rate of transfer of this disease we added one more important factor that impacts the rate of transmission i.e., population of the region/country. In order to get this information on the population we had performed a data processing in the first section that provided us the with USA’s city wise population which is stored in the .csv file in the data folder.\n",
    "This information that we have pulled out was for top 200 USA cities This file provides the information about the population city-wise along with few other factors such as total area of the region, population density etc."
   ]
  },
  {
   "cell_type": "code",
   "execution_count": null,
   "metadata": {},
   "outputs": [],
   "source": [
    "resp = requests.get('https://public.opendatasoft.com/api/records/1.0/search/?dataset=geonames-all-cities-with-a-population-1000&q=&rows=10000&sort=population&facet=timezone&facet=country&refine.country=United+States')\n",
    "outDict = json.loads(resp.text)\n",
    "\n",
    "cityPop = []\n",
    "\n",
    "for record in outDict[\"records\"]:\n",
    "    name = record[\"fields\"][\"name\"]\n",
    "    population = record[\"fields\"][\"population\"]\n",
    "    cityPop.append({\"name\":name, \"population\":population})\n",
    "\n",
    "cityPop = pd.DataFrame(cityPop)\n",
    "cityPop.to_csv(\"../data/us_all_cities_population.csv\")"
   ]
  },
  {
   "cell_type": "code",
   "execution_count": null,
   "metadata": {},
   "outputs": [],
   "source": [
    "cityPop.head()"
   ]
  },
  {
   "cell_type": "code",
   "execution_count": null,
   "metadata": {},
   "outputs": [],
   "source": [
    "airport_data = pd.read_csv(\"../data/airport_data_openflights_cleaned.csv\")\n",
    "airport_data.head()"
   ]
  },
  {
   "cell_type": "markdown",
   "metadata": {},
   "source": [
    "As we had the flight and airport information about almost all the cities in USA we fetched the population data from a bigger dataset from opendatasoft.com only for USA. After this operation we performed a left outer join on airport connections data and merged it with the population data."
   ]
  },
  {
   "cell_type": "code",
   "execution_count": null,
   "metadata": {},
   "outputs": [],
   "source": [
    "airport_merged_data = pd.merge(\n",
    "    airport_data, \n",
    "    cityPop.rename(\n",
    "        columns={\"name\":\"City\"}\n",
    "    ).drop_duplicates(subset=['City']), \n",
    "    how='left',\n",
    "    on='City'\n",
    ")\n",
    "airport_merged_data.to_csv(\"../data/us_airport_population_merged.csv\")\n",
    "airport_merged_data.head()"
   ]
  },
  {
   "cell_type": "markdown",
   "metadata": {},
   "source": [
    "As this was a left join operation it was bound that there will be some null values in the population column that was merged with the connections data set. In order to get a brief idea on the null values present in various columns of the data set we pulled out brief statics about it as mentioned below:"
   ]
  },
  {
   "cell_type": "code",
   "execution_count": null,
   "metadata": {},
   "outputs": [],
   "source": [
    "airport_merged_data.isnull().sum()/airport_merged_data.shape[0]*100"
   ]
  },
  {
   "cell_type": "markdown",
   "metadata": {},
   "source": [
    "### For 25% cities population is missing, so Hypothesis - the number of flights from the city is proportional to the city population"
   ]
  },
  {
   "cell_type": "markdown",
   "metadata": {},
   "source": [
    "As it is clearly evident that 25% of the population data is missing we came with a solution in which we will provide an estimated value of the population in the null areas by performing a Hypothesis. The Hypothesis is that the number of flights from the city is proportional to the city population. Based on this calculation an estimate value can be predicted for the cities for which there is no data present in the data set.\n",
    "In order to implement and perform this hypothesis a few data processing steps are required. The first step to this aggregating the flight_per_month column according to the source_airport code. These flights per month values are then merged with the connections data set. The merging process is a left join of the collections data on the data set containing values for flights_per_month."
   ]
  },
  {
   "cell_type": "code",
   "execution_count": null,
   "metadata": {},
   "outputs": [],
   "source": [
    "flights_number = connections.groupby(\n",
    "    ['source_airport'], as_index=False\n",
    ")[['flights_per_month']].sum()\n",
    "flights_number.head()"
   ]
  },
  {
   "cell_type": "code",
   "execution_count": null,
   "metadata": {},
   "outputs": [],
   "source": [
    "# adding source airport number of flights to the airport dataframe\n",
    "airport_merged_data_with_flightsCount = pd.merge(\n",
    "    airport_merged_data, flights_number, \n",
    "    how='left', \n",
    "    left_on='IATA', \n",
    "    right_on='source_airport'\n",
    ")\n",
    "airport_merged_data_with_flightsCount.head()"
   ]
  },
  {
   "cell_type": "code",
   "execution_count": null,
   "metadata": {},
   "outputs": [],
   "source": [
    "airport_data = airport_merged_data_with_flightsCount[~airport_merged_data_with_flightsCount.source_airport.isnull()]\n",
    "airport_data = airport_data[~airport_data.flights_per_month.isnull()]\n",
    "airport_data.head()"
   ]
  },
  {
   "cell_type": "code",
   "execution_count": null,
   "metadata": {},
   "outputs": [],
   "source": [
    "airport_data.isnull().sum()/airport_data.shape[0]*100"
   ]
  },
  {
   "cell_type": "markdown",
   "metadata": {},
   "source": [
    "### Find USA Population from https://worldpopulationreview.com/countries/united-states-population"
   ]
  },
  {
   "cell_type": "markdown",
   "metadata": {},
   "source": [
    "In our next step we are finding out the flight coefficient. This flight coefficient according to our Hypothesis is derived through a mathematical division operation in which the Total Population of US is divided by the flights per month that is operating in US.\n",
    "In order to get the total flights_per_month we just aggregated the entire flights count upto the country level. The total population of the country is a dynamic and live updated value which is fetched from the website (link: https://worldpopulationreview.com/countries/united-states-population ). Thus due to this the flight coef. is derived as per below:"
   ]
  },
  {
   "cell_type": "code",
   "execution_count": null,
   "metadata": {},
   "outputs": [],
   "source": [
    "population_link = \"https://worldpopulationreview.com/countries/united-states-population\"\n",
    "soup = get_soup(population_link)"
   ]
  },
  {
   "cell_type": "code",
   "execution_count": null,
   "metadata": {},
   "outputs": [],
   "source": [
    "usa_population = soup.find(\"span\", attrs={\"style\":\"font-size: 36px;\"}).text\n",
    "usa_population = int(usa_population.replace(',',''))\n",
    "usa_population"
   ]
  },
  {
   "cell_type": "code",
   "execution_count": null,
   "metadata": {},
   "outputs": [],
   "source": [
    "# average population per flight\n",
    "flights_coefs = airport_data[\n",
    "    ~airport_data.population.isnull()\n",
    "].groupby(\"Country\")[['flights_per_month']].sum()\n",
    "flights_coefs['total_population'] = usa_population\n",
    "flights_coefs['coef'] = usa_population/flights_coefs['flights_per_month']"
   ]
  },
  {
   "cell_type": "code",
   "execution_count": null,
   "metadata": {},
   "outputs": [],
   "source": [
    "flights_coefs"
   ]
  },
  {
   "cell_type": "markdown",
   "metadata": {},
   "source": [
    "### Using this coefficient to fill the missing population data"
   ]
  },
  {
   "cell_type": "markdown",
   "metadata": {},
   "source": [
    "Thus, this coef. Is now used to fill in the missing data in the population section by the calculation of:\n",
    "City estimated Population: flight_coefficient * flights_per_month\n",
    "\n",
    "The values that will be filled in the empty slots of the population column is an estimate value, but it is still enough for our application to perform operations and simulations."
   ]
  },
  {
   "cell_type": "code",
   "execution_count": null,
   "metadata": {},
   "outputs": [],
   "source": [
    "airport_data['flights_coefficient'] = airport_data.Country.map(flights_coefs.coef)\n",
    "airport_data['flights_coefficient'].fillna(airport_data['flights_coefficient'].median(), inplace=True)\n",
    "airport_data"
   ]
  },
  {
   "cell_type": "code",
   "execution_count": null,
   "metadata": {},
   "outputs": [],
   "source": [
    "city_estimates = np.ceil(airport_data.flights_coefficient[airport_data.population.isnull()] *\\\n",
    "                 airport_data.flights_per_month[airport_data.population.isnull()])\n",
    "\n",
    "airport_data.population[airport_data.population.isnull()] = city_estimates"
   ]
  },
  {
   "cell_type": "code",
   "execution_count": null,
   "metadata": {},
   "outputs": [],
   "source": [
    "airport_data.isnull().sum()/airport_data.shape[0]*100"
   ]
  },
  {
   "cell_type": "markdown",
   "metadata": {},
   "source": [
    "### Cleaning connections data"
   ]
  },
  {
   "cell_type": "code",
   "execution_count": null,
   "metadata": {},
   "outputs": [],
   "source": [
    "connections = connections[connections.source_airport.isin(airport_data.IATA)]\n",
    "connections = connections[connections.dest_airport.isin(airport_data.IATA)]"
   ]
  },
  {
   "cell_type": "markdown",
   "metadata": {},
   "source": [
    "These entire series of steps starting from data parsing through various websites, data extraction and data processing through various functions has provided us with the desired data set which are now divided and stored in two separate .csv files:"
   ]
  },
  {
   "cell_type": "code",
   "execution_count": null,
   "metadata": {},
   "outputs": [],
   "source": [
    "airport_data.to_csv(\"../data/airport_data_preprocessed.csv\")\n",
    "connections.to_csv(\"../data/connections_preprocessed.csv\")"
   ]
  },
  {
   "cell_type": "code",
   "execution_count": null,
   "metadata": {},
   "outputs": [],
   "source": [
    "connections.head()"
   ]
  },
  {
   "cell_type": "code",
   "execution_count": null,
   "metadata": {},
   "outputs": [],
   "source": [
    "airport_data.head()"
   ]
  },
  {
   "cell_type": "code",
   "execution_count": null,
   "metadata": {},
   "outputs": [],
   "source": []
  }
 ],
 "metadata": {
  "kernelspec": {
   "display_name": "Python 3",
   "language": "python",
   "name": "python3"
  },
  "language_info": {
   "codemirror_mode": {
    "name": "ipython",
    "version": 3
   },
   "file_extension": ".py",
   "mimetype": "text/x-python",
   "name": "python",
   "nbconvert_exporter": "python",
   "pygments_lexer": "ipython3",
   "version": "3.8.5"
  }
 },
 "nbformat": 4,
 "nbformat_minor": 4
}
