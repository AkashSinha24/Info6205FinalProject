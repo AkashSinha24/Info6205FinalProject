{
 "cells": [
  {
   "cell_type": "markdown",
   "metadata": {},
   "source": [
    "**Fetching all USA airports information"
   ]
  },
  {
   "cell_type": "code",
   "execution_count": 309,
   "metadata": {},
   "outputs": [],
   "source": [
    "import requests\n",
    "import re\n",
    "from bs4 import BeautifulSoup\n",
    "import pandas as pd\n",
    "import time\n",
    "import sys\n",
    "import csv\n",
    "import matplotlib.pyplot as plt\n",
    "import seaborn as sns\n",
    "import json\n",
    "import numpy as np\n",
    "\n",
    "from typing import Dict, List\n",
    "from tqdm import tqdm_notebook\n",
    "from fake_useragent import UserAgent"
   ]
  },
  {
   "cell_type": "code",
   "execution_count": 2,
   "metadata": {},
   "outputs": [],
   "source": [
    "url_main = \"https://www.flightconnections.com/\"\n",
    "url_codes = \"airport-codes\""
   ]
  },
  {
   "cell_type": "code",
   "execution_count": 3,
   "metadata": {},
   "outputs": [],
   "source": [
    "def get_soup(url):\n",
    "    res = requests.get(url, headers={'User-Agent': UserAgent().chrome})\n",
    "    html = res.content\n",
    "    soup = BeautifulSoup(html, 'lxml')\n",
    "    return soup"
   ]
  },
  {
   "cell_type": "code",
   "execution_count": 4,
   "metadata": {},
   "outputs": [],
   "source": [
    "soup = get_soup(url_main + url_codes)"
   ]
  },
  {
   "cell_type": "code",
   "execution_count": 5,
   "metadata": {},
   "outputs": [],
   "source": [
    "airport_list = soup.findAll(\"ul\", attrs={\"class\":\"airport-list\"})\n",
    "airport_list = [airport_group.findAll(\"li\") for airport_group in airport_list]\n",
    "airport_list = sum(airport_list, [])"
   ]
  },
  {
   "cell_type": "code",
   "execution_count": 6,
   "metadata": {},
   "outputs": [],
   "source": [
    "def get_airport_info(airport)->Dict[str,str]:\n",
    "    link = airport.find(\"a\").get(\"href\")\n",
    "    link = link.replace(\"-to-\", \"-from-\")\n",
    "    code = airport.find(\"span\", attrs={\"class\":\"airport-code\"}).text\n",
    "    name = airport.find(\"span\", attrs={\"class\":\"airport-name\"}).text\n",
    "    city_country = airport.find(\"span\", attrs={\"class\":\"airport-city-country\"}).text\n",
    "    cc = city_country.split(\", \")\n",
    "    city = cc[0]\n",
    "    country = cc[1]\n",
    "    return {\"link\":link, \"code\":code, \"name\":name, \"city\":city, \"country\":country}"
   ]
  },
  {
   "cell_type": "code",
   "execution_count": 7,
   "metadata": {},
   "outputs": [
    {
     "name": "stderr",
     "output_type": "stream",
     "text": [
      "<ipython-input-7-c2e010333845>:3: TqdmDeprecationWarning: This function will be removed in tqdm==5.0.0\n",
      "Please use `tqdm.notebook.tqdm` instead of `tqdm.tqdm_notebook`\n",
      "  for airport in tqdm_notebook(airport_list):\n"
     ]
    },
    {
     "data": {
      "application/vnd.jupyter.widget-view+json": {
       "model_id": "ce1419d8c9d7462ebc2f443d5917611a",
       "version_major": 2,
       "version_minor": 0
      },
      "text/plain": [
       "HBox(children=(HTML(value=''), FloatProgress(value=0.0, max=3754.0), HTML(value='')))"
      ]
     },
     "metadata": {},
     "output_type": "display_data"
    },
    {
     "name": "stdout",
     "output_type": "stream",
     "text": [
      "\n"
     ]
    }
   ],
   "source": [
    "airport_info = []\n",
    "\n",
    "for airport in tqdm_notebook(airport_list):\n",
    "    airport = get_airport_info(airport)\n",
    "    if airport[\"country\"] == \"United States\":\n",
    "        airport_info.append(airport)"
   ]
  },
  {
   "cell_type": "code",
   "execution_count": 8,
   "metadata": {},
   "outputs": [],
   "source": [
    "result = pd.DataFrame(airport_info)\n",
    "result.to_csv(\"../data/airport_info.csv\")"
   ]
  },
  {
   "cell_type": "code",
   "execution_count": 9,
   "metadata": {},
   "outputs": [
    {
     "data": {
      "text/html": [
       "<div>\n",
       "<style scoped>\n",
       "    .dataframe tbody tr th:only-of-type {\n",
       "        vertical-align: middle;\n",
       "    }\n",
       "\n",
       "    .dataframe tbody tr th {\n",
       "        vertical-align: top;\n",
       "    }\n",
       "\n",
       "    .dataframe thead th {\n",
       "        text-align: right;\n",
       "    }\n",
       "</style>\n",
       "<table border=\"1\" class=\"dataframe\">\n",
       "  <thead>\n",
       "    <tr style=\"text-align: right;\">\n",
       "      <th></th>\n",
       "      <th>link</th>\n",
       "      <th>code</th>\n",
       "      <th>name</th>\n",
       "      <th>city</th>\n",
       "      <th>country</th>\n",
       "    </tr>\n",
       "  </thead>\n",
       "  <tbody>\n",
       "    <tr>\n",
       "      <th>0</th>\n",
       "      <td>/flights-from-allentown-abe</td>\n",
       "      <td>ABE</td>\n",
       "      <td>Lehigh Valley International Airpo</td>\n",
       "      <td>Allentown</td>\n",
       "      <td>United States</td>\n",
       "    </tr>\n",
       "    <tr>\n",
       "      <th>1</th>\n",
       "      <td>/flights-from-abilene-abi</td>\n",
       "      <td>ABI</td>\n",
       "      <td>Abilene Regional Airport</td>\n",
       "      <td>Abilene</td>\n",
       "      <td>United States</td>\n",
       "    </tr>\n",
       "    <tr>\n",
       "      <th>2</th>\n",
       "      <td>/flights-from-ambler-abl</td>\n",
       "      <td>ABL</td>\n",
       "      <td>Ambler Airport (FAA: AFM)</td>\n",
       "      <td>Ambler</td>\n",
       "      <td>United States</td>\n",
       "    </tr>\n",
       "    <tr>\n",
       "      <th>3</th>\n",
       "      <td>/flights-from-albuquerque-abq</td>\n",
       "      <td>ABQ</td>\n",
       "      <td>Albuquerque International Sunport</td>\n",
       "      <td>Albuquerque</td>\n",
       "      <td>United States</td>\n",
       "    </tr>\n",
       "    <tr>\n",
       "      <th>4</th>\n",
       "      <td>/flights-from-aberdeen-abr</td>\n",
       "      <td>ABR</td>\n",
       "      <td>Aberdeen Regional Airport</td>\n",
       "      <td>Aberdeen</td>\n",
       "      <td>United States</td>\n",
       "    </tr>\n",
       "  </tbody>\n",
       "</table>\n",
       "</div>"
      ],
      "text/plain": [
       "                            link code                               name  \\\n",
       "0    /flights-from-allentown-abe  ABE  Lehigh Valley International Airpo   \n",
       "1      /flights-from-abilene-abi  ABI           Abilene Regional Airport   \n",
       "2       /flights-from-ambler-abl  ABL          Ambler Airport (FAA: AFM)   \n",
       "3  /flights-from-albuquerque-abq  ABQ  Albuquerque International Sunport   \n",
       "4     /flights-from-aberdeen-abr  ABR          Aberdeen Regional Airport   \n",
       "\n",
       "          city        country  \n",
       "0    Allentown  United States  \n",
       "1      Abilene  United States  \n",
       "2       Ambler  United States  \n",
       "3  Albuquerque  United States  \n",
       "4     Aberdeen  United States  "
      ]
     },
     "execution_count": 9,
     "metadata": {},
     "output_type": "execute_result"
    }
   ],
   "source": [
    "airport_info = pd.read_csv(\"../data/airport_info.csv\", index_col=0)\n",
    "airport_info.head()"
   ]
  },
  {
   "cell_type": "markdown",
   "metadata": {},
   "source": [
    "## Visiting every airport link in USA and finding connections in USA"
   ]
  },
  {
   "cell_type": "code",
   "execution_count": 10,
   "metadata": {},
   "outputs": [],
   "source": [
    "def get_airport_info(destination, source_airport)->Dict[str,str]:\n",
    "    name = destination.find(\"div\", attrs={\"class\":\"popular-destination-airport-name\"}).text\n",
    "    destination_code = re.findall(\"\\((.*?)\\)\", name)[0]\n",
    "    country = destination.find(\"img\").get(\"title\")\n",
    "    \n",
    "    destination_flights_per_month = destination.find(\"span\", attrs={'class':\"float-right\"}).text.strip()\n",
    "    destination_flights_per_month = re.findall('\\d+', destination_flights_per_month)[0]\n",
    "    if destination_flights_per_month.isdigit():\n",
    "        destination_flights_per_month = int(destination_flights_per_month)\n",
    "    \n",
    "    return {\"source_code\":source_airport, \"destination_code\": destination_code, \"flights_per_month\": destination_flights_per_month, \"country\":country}"
   ]
  },
  {
   "cell_type": "code",
   "execution_count": 11,
   "metadata": {},
   "outputs": [],
   "source": [
    "def get_destinations_info(url_airport, source_airport)->List[Dict]:\n",
    "#     print(url_main)\n",
    "#     print(url_airport)\n",
    "    flights_info = get_soup(url_main + url_airport)\n",
    "    \n",
    "    popular_destinations = flights_info.findAll(\"a\", attrs={\"class\":\"popular-destination btn\"})\n",
    "    popular_destinations_hidden = soup.findAll(\"a\", attrs={\"class\":\"popular-destination btn hide\"})\n",
    "    popular_destinations = popular_destinations_hidden + popular_destinations\n",
    "#     print(popular_destinations)\n",
    "    \n",
    "    destinations_info = []\n",
    "\n",
    "    for destination in tqdm_notebook(popular_destinations):\n",
    "        destination = get_airport_info(destination, source_airport)\n",
    "        if destination[\"country\"] == \"United States\":\n",
    "            destinations_info.append(destination)\n",
    "    return destinations_info"
   ]
  },
  {
   "cell_type": "code",
   "execution_count": null,
   "metadata": {},
   "outputs": [],
   "source": [
    "full_destination_routes = []\n",
    "\n",
    "exceptions = []\n",
    "\n",
    "for row in tqdm_notebook(airport_info.itertuples(), total=airport_info.shape[0]):\n",
    "    url_airport = row.link\n",
    "#     print(url_airport)\n",
    "    source_airport = row.code\n",
    "#     print(source_airport)\n",
    "    try:\n",
    "        destinations = get_destinations_info(url_airport, source_airport)\n",
    "        full_destination_routes.extend(destinations)\n",
    "    except Exception as e:\n",
    "        if e == KeyboardInterrupt:\n",
    "            break            \n",
    "        else:\n",
    "            print(e, url_airport, source_code)\n",
    "        exceptions.append([e, url_airport, source_code])\n",
    "    time.sleep(0.5)"
   ]
  },
  {
   "cell_type": "code",
   "execution_count": 107,
   "metadata": {},
   "outputs": [],
   "source": [
    "full_destination_routes = pd.DataFrame(full_destination_routes)\n",
    "full_destination_routes.to_csv(\"../data/routes.csv\")"
   ]
  },
  {
   "cell_type": "code",
   "execution_count": 108,
   "metadata": {},
   "outputs": [
    {
     "data": {
      "text/plain": [
       "(3748, 4)"
      ]
     },
     "execution_count": 108,
     "metadata": {},
     "output_type": "execute_result"
    }
   ],
   "source": [
    "full_destination_routes.shape"
   ]
  },
  {
   "cell_type": "code",
   "execution_count": 109,
   "metadata": {},
   "outputs": [
    {
     "data": {
      "text/html": [
       "<div>\n",
       "<style scoped>\n",
       "    .dataframe tbody tr th:only-of-type {\n",
       "        vertical-align: middle;\n",
       "    }\n",
       "\n",
       "    .dataframe tbody tr th {\n",
       "        vertical-align: top;\n",
       "    }\n",
       "\n",
       "    .dataframe thead th {\n",
       "        text-align: right;\n",
       "    }\n",
       "</style>\n",
       "<table border=\"1\" class=\"dataframe\">\n",
       "  <thead>\n",
       "    <tr style=\"text-align: right;\">\n",
       "      <th></th>\n",
       "      <th>source_code</th>\n",
       "      <th>destination_code</th>\n",
       "      <th>flights_per_month</th>\n",
       "      <th>country</th>\n",
       "    </tr>\n",
       "  </thead>\n",
       "  <tbody>\n",
       "    <tr>\n",
       "      <th>0</th>\n",
       "      <td>ABE</td>\n",
       "      <td>DTW</td>\n",
       "      <td>88</td>\n",
       "      <td>United States</td>\n",
       "    </tr>\n",
       "    <tr>\n",
       "      <th>1</th>\n",
       "      <td>ABE</td>\n",
       "      <td>CLT</td>\n",
       "      <td>79</td>\n",
       "      <td>United States</td>\n",
       "    </tr>\n",
       "    <tr>\n",
       "      <th>2</th>\n",
       "      <td>ABE</td>\n",
       "      <td>ORD</td>\n",
       "      <td>56</td>\n",
       "      <td>United States</td>\n",
       "    </tr>\n",
       "    <tr>\n",
       "      <th>3</th>\n",
       "      <td>ABE</td>\n",
       "      <td>ATL</td>\n",
       "      <td>42</td>\n",
       "      <td>United States</td>\n",
       "    </tr>\n",
       "    <tr>\n",
       "      <th>4</th>\n",
       "      <td>ABE</td>\n",
       "      <td>SFB</td>\n",
       "      <td>31</td>\n",
       "      <td>United States</td>\n",
       "    </tr>\n",
       "    <tr>\n",
       "      <th>...</th>\n",
       "      <td>...</td>\n",
       "      <td>...</td>\n",
       "      <td>...</td>\n",
       "      <td>...</td>\n",
       "    </tr>\n",
       "    <tr>\n",
       "      <th>3743</th>\n",
       "      <td>YAK</td>\n",
       "      <td>JNU</td>\n",
       "      <td>30</td>\n",
       "      <td>United States</td>\n",
       "    </tr>\n",
       "    <tr>\n",
       "      <th>3744</th>\n",
       "      <td>YAK</td>\n",
       "      <td>CDV</td>\n",
       "      <td>30</td>\n",
       "      <td>United States</td>\n",
       "    </tr>\n",
       "    <tr>\n",
       "      <th>3745</th>\n",
       "      <td>YKM</td>\n",
       "      <td>SEA</td>\n",
       "      <td>62</td>\n",
       "      <td>United States</td>\n",
       "    </tr>\n",
       "    <tr>\n",
       "      <th>3746</th>\n",
       "      <td>YUM</td>\n",
       "      <td>PHX</td>\n",
       "      <td>98</td>\n",
       "      <td>United States</td>\n",
       "    </tr>\n",
       "    <tr>\n",
       "      <th>3747</th>\n",
       "      <td>YUM</td>\n",
       "      <td>DFW</td>\n",
       "      <td>54</td>\n",
       "      <td>United States</td>\n",
       "    </tr>\n",
       "  </tbody>\n",
       "</table>\n",
       "<p>3748 rows × 4 columns</p>\n",
       "</div>"
      ],
      "text/plain": [
       "     source_code destination_code  flights_per_month        country\n",
       "0            ABE              DTW                 88  United States\n",
       "1            ABE              CLT                 79  United States\n",
       "2            ABE              ORD                 56  United States\n",
       "3            ABE              ATL                 42  United States\n",
       "4            ABE              SFB                 31  United States\n",
       "...          ...              ...                ...            ...\n",
       "3743         YAK              JNU                 30  United States\n",
       "3744         YAK              CDV                 30  United States\n",
       "3745         YKM              SEA                 62  United States\n",
       "3746         YUM              PHX                 98  United States\n",
       "3747         YUM              DFW                 54  United States\n",
       "\n",
       "[3748 rows x 4 columns]"
      ]
     },
     "execution_count": 109,
     "metadata": {},
     "output_type": "execute_result"
    }
   ],
   "source": [
    "full_destination_routes"
   ]
  },
  {
   "cell_type": "markdown",
   "metadata": {},
   "source": [
    "## Fetching Airport Data Dump from https://openflights.org/data.html"
   ]
  },
  {
   "cell_type": "code",
   "execution_count": 249,
   "metadata": {},
   "outputs": [],
   "source": [
    "airport_col = ['ID', 'Name', 'City', 'Country','IATA', 'ICAO', 'Lat', 'Long', 'Alt', \n",
    "               'Timezone', 'DST', 'Tz database time zone', 'type', 'source']\n",
    "airport_data = pd.read_csv(\"https://raw.githubusercontent.com/jpatokal/openflights/master/data/airports.dat\",\n",
    "                        names = airport_col, index_col = 0)\n",
    "airport_data = airport_data.drop(['ICAO','source', 'type','Tz database time zone','DST','Timezone','Alt'], axis=1)\n",
    "airport_data.to_csv(\"../data/airport_data_openflights.csv\")\n"
   ]
  },
  {
   "cell_type": "code",
   "execution_count": 255,
   "metadata": {},
   "outputs": [],
   "source": [
    "#Pre-processing the airport data to filter for United States only and removing unecessary columns.\n",
    "\n",
    "filePath = \"../data/airport_data_openflights.csv\"\n",
    "with open(filePath)\tas csvfile:\n",
    "    reader = csv.DictReader(csvfile)\n",
    "\n",
    "    filePath = \"../data/temp.csv\"\n",
    "    with open(filePath,'w',newline='') as csvfile:\n",
    "#         fieldnames = ['ID','Name','City','Country','IATA','ICAO','Lat','Long','Alt','Timezone','DST','Tz database time zone','type','source']\n",
    "        fieldsnames = ['ID','Name','City','Country','IATA','Lat','Long']\n",
    "        writer = csv.DictWriter(csvfile, fieldnames=fieldnames)\n",
    "\n",
    "        for row in reader:\n",
    "            if row['Country'] == \"United States\":\n",
    "                writer.writerow(row)\n",
    "\n",
    "# header_list = ['ID','Name','City','Country','IATA','Lat','Long']\n",
    "# airport_data = pd.read_csv(\"../data/temp.csv\", names=header_list)\n",
    "airport_data = pd.read_csv(\"../data/temp.csv\")\n",
    "airport_data = airport_df[~airport_df.IATA.isin([r\"\\N\"])]\n",
    "airport_data.to_csv('../data/airport_data_openflights_cleaned.csv', index=False)"
   ]
  },
  {
   "cell_type": "code",
   "execution_count": 256,
   "metadata": {},
   "outputs": [
    {
     "data": {
      "text/html": [
       "<div>\n",
       "<style scoped>\n",
       "    .dataframe tbody tr th:only-of-type {\n",
       "        vertical-align: middle;\n",
       "    }\n",
       "\n",
       "    .dataframe tbody tr th {\n",
       "        vertical-align: top;\n",
       "    }\n",
       "\n",
       "    .dataframe thead th {\n",
       "        text-align: right;\n",
       "    }\n",
       "</style>\n",
       "<table border=\"1\" class=\"dataframe\">\n",
       "  <thead>\n",
       "    <tr style=\"text-align: right;\">\n",
       "      <th></th>\n",
       "      <th>ID</th>\n",
       "      <th>Name</th>\n",
       "      <th>City</th>\n",
       "      <th>Country</th>\n",
       "      <th>IATA</th>\n",
       "      <th>Lat</th>\n",
       "      <th>Long</th>\n",
       "    </tr>\n",
       "  </thead>\n",
       "  <tbody>\n",
       "    <tr>\n",
       "      <th>0</th>\n",
       "      <td>3411</td>\n",
       "      <td>Barter Island LRRS Airport</td>\n",
       "      <td>Barter Island</td>\n",
       "      <td>United States</td>\n",
       "      <td>BTI</td>\n",
       "      <td>70.134003</td>\n",
       "      <td>-143.582001</td>\n",
       "    </tr>\n",
       "    <tr>\n",
       "      <th>2</th>\n",
       "      <td>3413</td>\n",
       "      <td>Cape Lisburne LRRS Airport</td>\n",
       "      <td>Cape Lisburne</td>\n",
       "      <td>United States</td>\n",
       "      <td>LUR</td>\n",
       "      <td>68.875099</td>\n",
       "      <td>-166.110001</td>\n",
       "    </tr>\n",
       "    <tr>\n",
       "      <th>3</th>\n",
       "      <td>3414</td>\n",
       "      <td>Point Lay LRRS Airport</td>\n",
       "      <td>Point Lay</td>\n",
       "      <td>United States</td>\n",
       "      <td>PIZ</td>\n",
       "      <td>69.732903</td>\n",
       "      <td>-163.005005</td>\n",
       "    </tr>\n",
       "    <tr>\n",
       "      <th>4</th>\n",
       "      <td>3415</td>\n",
       "      <td>Hilo International Airport</td>\n",
       "      <td>Hilo</td>\n",
       "      <td>United States</td>\n",
       "      <td>ITO</td>\n",
       "      <td>19.721399</td>\n",
       "      <td>-155.048004</td>\n",
       "    </tr>\n",
       "    <tr>\n",
       "      <th>5</th>\n",
       "      <td>3416</td>\n",
       "      <td>Orlando Executive Airport</td>\n",
       "      <td>Orlando</td>\n",
       "      <td>United States</td>\n",
       "      <td>ORL</td>\n",
       "      <td>28.545500</td>\n",
       "      <td>-81.332901</td>\n",
       "    </tr>\n",
       "  </tbody>\n",
       "</table>\n",
       "</div>"
      ],
      "text/plain": [
       "     ID                        Name           City        Country IATA  \\\n",
       "0  3411  Barter Island LRRS Airport  Barter Island  United States  BTI   \n",
       "2  3413  Cape Lisburne LRRS Airport  Cape Lisburne  United States  LUR   \n",
       "3  3414      Point Lay LRRS Airport      Point Lay  United States  PIZ   \n",
       "4  3415  Hilo International Airport           Hilo  United States  ITO   \n",
       "5  3416   Orlando Executive Airport        Orlando  United States  ORL   \n",
       "\n",
       "         Lat        Long  \n",
       "0  70.134003 -143.582001  \n",
       "2  68.875099 -166.110001  \n",
       "3  69.732903 -163.005005  \n",
       "4  19.721399 -155.048004  \n",
       "5  28.545500  -81.332901  "
      ]
     },
     "execution_count": 256,
     "metadata": {},
     "output_type": "execute_result"
    }
   ],
   "source": [
    "airport_data.head()"
   ]
  },
  {
   "cell_type": "markdown",
   "metadata": {},
   "source": [
    "## Fetching Airport Connections Data Dump From https://openflights.org/data.html"
   ]
  },
  {
   "cell_type": "code",
   "execution_count": 271,
   "metadata": {},
   "outputs": [],
   "source": [
    "connections_cols = ['Airline', 'Airline ID', 'Source Airport', 'Source Airport ID',\n",
    "              'Dest Airport', 'Dest Airport ID', 'Codeshare', 'Stops', 'equipment']\n",
    "connections_world = pd.read_csv(\"https://raw.githubusercontent.com/jpatokal/openflights/master/data/routes.dat\",\n",
    "                        names = connections_cols)\n",
    "connections_world.to_csv(\"../data/connections_world.csv\")"
   ]
  },
  {
   "cell_type": "code",
   "execution_count": 272,
   "metadata": {},
   "outputs": [
    {
     "data": {
      "text/plain": [
       "(67663, 9)"
      ]
     },
     "execution_count": 272,
     "metadata": {},
     "output_type": "execute_result"
    }
   ],
   "source": [
    "connections_world.shape"
   ]
  },
  {
   "cell_type": "markdown",
   "metadata": {},
   "source": [
    "## Plotting Python Scatter Plot of US Airports across latitude vs longitude"
   ]
  },
  {
   "cell_type": "code",
   "execution_count": 273,
   "metadata": {},
   "outputs": [
    {
     "data": {
      "image/png": "[encoded data removed]",
      "text/plain": [
       "<Figure size 1800x576 with 1 Axes>"
      ]
     },
     "metadata": {
      "needs_background": "light"
     },
     "output_type": "display_data"
    }
   ],
   "source": [
    "# full_destination_routes -> From routes.csv\n",
    "# connections_world -> connections_world.csv\n",
    "# airport_data -> airport_data_openflights_cleaned.csv\n",
    "\n",
    "plt.figure(figsize=(25, 8))\n",
    "plt.title(\"USA airports\")\n",
    "plt.scatter(airport_data.Long, airport_data.Lat, s=2, c='green')\n",
    "plt.ylabel(\"Latitude\")\n",
    "plt.xlabel(\"Longitude\")\n",
    "sns.despine()\n",
    "plt.show()"
   ]
  },
  {
   "cell_type": "markdown",
   "metadata": {},
   "source": [
    "## Left join US airports destination routes with all connections in world data"
   ]
  },
  {
   "cell_type": "code",
   "execution_count": 274,
   "metadata": {},
   "outputs": [
    {
     "data": {
      "text/html": [
       "<div>\n",
       "<style scoped>\n",
       "    .dataframe tbody tr th:only-of-type {\n",
       "        vertical-align: middle;\n",
       "    }\n",
       "\n",
       "    .dataframe tbody tr th {\n",
       "        vertical-align: top;\n",
       "    }\n",
       "\n",
       "    .dataframe thead th {\n",
       "        text-align: right;\n",
       "    }\n",
       "</style>\n",
       "<table border=\"1\" class=\"dataframe\">\n",
       "  <thead>\n",
       "    <tr style=\"text-align: right;\">\n",
       "      <th></th>\n",
       "      <th>flights_per_month</th>\n",
       "      <th>country</th>\n",
       "      <th>airline</th>\n",
       "      <th>airline_id</th>\n",
       "      <th>source_airport</th>\n",
       "      <th>source_airport_id</th>\n",
       "      <th>dest_airport</th>\n",
       "      <th>dest_airport_id</th>\n",
       "    </tr>\n",
       "  </thead>\n",
       "  <tbody>\n",
       "    <tr>\n",
       "      <th>0</th>\n",
       "      <td>88</td>\n",
       "      <td>United States</td>\n",
       "      <td>DL</td>\n",
       "      <td>2009</td>\n",
       "      <td>ABE</td>\n",
       "      <td>4355</td>\n",
       "      <td>DTW</td>\n",
       "      <td>3645</td>\n",
       "    </tr>\n",
       "    <tr>\n",
       "      <th>1</th>\n",
       "      <td>79</td>\n",
       "      <td>United States</td>\n",
       "      <td>AA</td>\n",
       "      <td>24</td>\n",
       "      <td>ABE</td>\n",
       "      <td>4355</td>\n",
       "      <td>CLT</td>\n",
       "      <td>3876</td>\n",
       "    </tr>\n",
       "    <tr>\n",
       "      <th>2</th>\n",
       "      <td>79</td>\n",
       "      <td>United States</td>\n",
       "      <td>US</td>\n",
       "      <td>5265</td>\n",
       "      <td>ABE</td>\n",
       "      <td>4355</td>\n",
       "      <td>CLT</td>\n",
       "      <td>3876</td>\n",
       "    </tr>\n",
       "    <tr>\n",
       "      <th>3</th>\n",
       "      <td>56</td>\n",
       "      <td>United States</td>\n",
       "      <td>UA</td>\n",
       "      <td>5209</td>\n",
       "      <td>ABE</td>\n",
       "      <td>4355</td>\n",
       "      <td>ORD</td>\n",
       "      <td>3830</td>\n",
       "    </tr>\n",
       "    <tr>\n",
       "      <th>4</th>\n",
       "      <td>42</td>\n",
       "      <td>United States</td>\n",
       "      <td>AF</td>\n",
       "      <td>137</td>\n",
       "      <td>ABE</td>\n",
       "      <td>4355</td>\n",
       "      <td>ATL</td>\n",
       "      <td>3682</td>\n",
       "    </tr>\n",
       "  </tbody>\n",
       "</table>\n",
       "</div>"
      ],
      "text/plain": [
       "   flights_per_month        country airline airline_id source_airport  \\\n",
       "0                 88  United States      DL       2009            ABE   \n",
       "1                 79  United States      AA         24            ABE   \n",
       "2                 79  United States      US       5265            ABE   \n",
       "3                 56  United States      UA       5209            ABE   \n",
       "4                 42  United States      AF        137            ABE   \n",
       "\n",
       "  source_airport_id dest_airport dest_airport_id  \n",
       "0              4355          DTW            3645  \n",
       "1              4355          CLT            3876  \n",
       "2              4355          CLT            3876  \n",
       "3              4355          ORD            3830  \n",
       "4              4355          ATL            3682  "
      ]
     },
     "execution_count": 274,
     "metadata": {},
     "output_type": "execute_result"
    }
   ],
   "source": [
    "connections = pd.merge(\n",
    "    full_destination_routes,\n",
    "    connections_world,\n",
    "    how='left', \n",
    "    left_on=['source_code', 'destination_code'], \n",
    "    right_on=['Source Airport', 'Dest Airport']\n",
    ")\n",
    "\n",
    "connections.drop(\n",
    "    ['source_code', 'destination_code', 'Codeshare', 'Stops', 'equipment'],\n",
    "    axis=1, inplace=True\n",
    ")\n",
    "\n",
    "connections.columns = connections.columns.str.lower().str.split().str.join(\"_\")\n",
    "connections.head()"
   ]
  },
  {
   "cell_type": "code",
   "execution_count": 275,
   "metadata": {},
   "outputs": [
    {
     "data": {
      "text/plain": [
       "flights_per_month    0.000000\n",
       "country              0.000000\n",
       "airline              0.152399\n",
       "airline_id           0.152399\n",
       "source_airport       0.152399\n",
       "source_airport_id    0.152399\n",
       "dest_airport         0.152399\n",
       "dest_airport_id      0.152399\n",
       "dtype: float64"
      ]
     },
     "execution_count": 275,
     "metadata": {},
     "output_type": "execute_result"
    }
   ],
   "source": [
    "# Checking if any valuable data is missing\n",
    "connections.isnull().sum()/connections.shape[0]"
   ]
  },
  {
   "cell_type": "markdown",
   "metadata": {},
   "source": [
    "## Adding US Airports Longitude and Latitude data to connections table above"
   ]
  },
  {
   "cell_type": "code",
   "execution_count": 276,
   "metadata": {},
   "outputs": [],
   "source": [
    "connections = pd.merge(\n",
    "    connections, airport_data[['IATA', 'Lat', 'Long']], left_on='source_airport', right_on='IATA')\n",
    "\n",
    "connections = pd.merge(\n",
    "    connections, airport_data[['IATA', 'Lat', 'Long']], left_on='dest_airport', right_on='IATA')\n",
    "\n",
    "connections.drop(['IATA_x', 'IATA_y'], axis=1, inplace=True)\n",
    "connections.rename(columns={\n",
    "    'Lat_x':'latitude_source', \n",
    "    'Long_x':'longitude_source',\n",
    "    'Lat_y':'latitude_dest',\n",
    "    'Long_y':'longitude_dest'\n",
    "}, inplace=True)\n",
    "connections.head()\n",
    "connections.to_csv(\"../data/temp_connections.csv\")"
   ]
  },
  {
   "cell_type": "markdown",
   "metadata": {},
   "source": [
    "## Adding top 200 fetched US cities population to airport_data"
   ]
  },
  {
   "cell_type": "code",
   "execution_count": 190,
   "metadata": {},
   "outputs": [
    {
     "name": "stdout",
     "output_type": "stream",
     "text": [
      "(200, 8)\n"
     ]
    },
    {
     "data": {
      "text/html": [
       "<div>\n",
       "<style scoped>\n",
       "    .dataframe tbody tr th:only-of-type {\n",
       "        vertical-align: middle;\n",
       "    }\n",
       "\n",
       "    .dataframe tbody tr th {\n",
       "        vertical-align: top;\n",
       "    }\n",
       "\n",
       "    .dataframe thead th {\n",
       "        text-align: right;\n",
       "    }\n",
       "</style>\n",
       "<table border=\"1\" class=\"dataframe\">\n",
       "  <thead>\n",
       "    <tr style=\"text-align: right;\">\n",
       "      <th></th>\n",
       "      <th>Rank</th>\n",
       "      <th>Name</th>\n",
       "      <th>State</th>\n",
       "      <th>2020 Pop</th>\n",
       "      <th>2010 Census</th>\n",
       "      <th>Change</th>\n",
       "      <th>Density (km²)</th>\n",
       "      <th>Area (km²)</th>\n",
       "    </tr>\n",
       "  </thead>\n",
       "  <tbody>\n",
       "    <tr>\n",
       "      <th>0</th>\n",
       "      <td>1</td>\n",
       "      <td>New York City</td>\n",
       "      <td>New York</td>\n",
       "      <td>8323340</td>\n",
       "      <td>8190360</td>\n",
       "      <td>1.62%</td>\n",
       "      <td>10699</td>\n",
       "      <td>778</td>\n",
       "    </tr>\n",
       "    <tr>\n",
       "      <th>1</th>\n",
       "      <td>2</td>\n",
       "      <td>Los Angeles</td>\n",
       "      <td>California</td>\n",
       "      <td>4015940</td>\n",
       "      <td>3795370</td>\n",
       "      <td>5.81%</td>\n",
       "      <td>3306</td>\n",
       "      <td>1215</td>\n",
       "    </tr>\n",
       "    <tr>\n",
       "      <th>2</th>\n",
       "      <td>3</td>\n",
       "      <td>Chicago</td>\n",
       "      <td>Illinois</td>\n",
       "      <td>2694240</td>\n",
       "      <td>2697530</td>\n",
       "      <td>-0.12%</td>\n",
       "      <td>4575</td>\n",
       "      <td>589</td>\n",
       "    </tr>\n",
       "    <tr>\n",
       "      <th>3</th>\n",
       "      <td>4</td>\n",
       "      <td>Houston</td>\n",
       "      <td>Texas</td>\n",
       "      <td>2340890</td>\n",
       "      <td>2098450</td>\n",
       "      <td>11.55%</td>\n",
       "      <td>1412</td>\n",
       "      <td>1658</td>\n",
       "    </tr>\n",
       "    <tr>\n",
       "      <th>4</th>\n",
       "      <td>5</td>\n",
       "      <td>Phoenix</td>\n",
       "      <td>Arizona</td>\n",
       "      <td>1703080</td>\n",
       "      <td>1449300</td>\n",
       "      <td>17.51%</td>\n",
       "      <td>1270</td>\n",
       "      <td>1341</td>\n",
       "    </tr>\n",
       "  </tbody>\n",
       "</table>\n",
       "</div>"
      ],
      "text/plain": [
       "   Rank           Name       State  2020 Pop  2010 Census  Change  \\\n",
       "0     1  New York City    New York   8323340      8190360   1.62%   \n",
       "1     2    Los Angeles  California   4015940      3795370   5.81%   \n",
       "2     3        Chicago    Illinois   2694240      2697530  -0.12%   \n",
       "3     4        Houston       Texas   2340890      2098450  11.55%   \n",
       "4     5        Phoenix     Arizona   1703080      1449300  17.51%   \n",
       "\n",
       "   Density (km²)  Area (km²)  \n",
       "0          10699         778  \n",
       "1           3306        1215  \n",
       "2           4575         589  \n",
       "3           1412        1658  \n",
       "4           1270        1341  "
      ]
     },
     "execution_count": 190,
     "metadata": {},
     "output_type": "execute_result"
    }
   ],
   "source": [
    "# Run US_Cities_Population.ipynb first to get the us_top_200_city_population.csv file generated\n",
    "\n",
    "population_city = pd.read_csv(\"../data/us_top_200_city_population.csv\", index_col=0)\n",
    "print(population_city.shape)\n",
    "population_city.head()"
   ]
  },
  {
   "cell_type": "markdown",
   "metadata": {},
   "source": [
    "## Fetching Population Data from a more bigger dataset from opendatasoft.com"
   ]
  },
  {
   "cell_type": "code",
   "execution_count": 233,
   "metadata": {},
   "outputs": [],
   "source": [
    "resp = requests.get('https://public.opendatasoft.com/api/records/1.0/search/?dataset=geonames-all-cities-with-a-population-1000&q=&rows=10000&sort=population&facet=timezone&facet=country&refine.country=United+States')\n",
    "outDict = json.loads(resp.text)\n",
    "\n",
    "cityPop = []\n",
    "\n",
    "for record in outDict[\"records\"]:\n",
    "    name = record[\"fields\"][\"name\"]\n",
    "    population = record[\"fields\"][\"population\"]\n",
    "    cityPop.append({\"name\":name, \"population\":population})\n",
    "\n",
    "cityPop = pd.DataFrame(cityPop)\n",
    "cityPop.to_csv(\"../data/us_all_cities_population.csv\")"
   ]
  },
  {
   "cell_type": "code",
   "execution_count": 234,
   "metadata": {},
   "outputs": [
    {
     "data": {
      "text/html": [
       "<div>\n",
       "<style scoped>\n",
       "    .dataframe tbody tr th:only-of-type {\n",
       "        vertical-align: middle;\n",
       "    }\n",
       "\n",
       "    .dataframe tbody tr th {\n",
       "        vertical-align: top;\n",
       "    }\n",
       "\n",
       "    .dataframe thead th {\n",
       "        text-align: right;\n",
       "    }\n",
       "</style>\n",
       "<table border=\"1\" class=\"dataframe\">\n",
       "  <thead>\n",
       "    <tr style=\"text-align: right;\">\n",
       "      <th></th>\n",
       "      <th>name</th>\n",
       "      <th>population</th>\n",
       "    </tr>\n",
       "  </thead>\n",
       "  <tbody>\n",
       "    <tr>\n",
       "      <th>0</th>\n",
       "      <td>New York City</td>\n",
       "      <td>8175133</td>\n",
       "    </tr>\n",
       "    <tr>\n",
       "      <th>1</th>\n",
       "      <td>Los Angeles</td>\n",
       "      <td>3971883</td>\n",
       "    </tr>\n",
       "    <tr>\n",
       "      <th>2</th>\n",
       "      <td>Chicago</td>\n",
       "      <td>2720546</td>\n",
       "    </tr>\n",
       "    <tr>\n",
       "      <th>3</th>\n",
       "      <td>Brooklyn</td>\n",
       "      <td>2300664</td>\n",
       "    </tr>\n",
       "    <tr>\n",
       "      <th>4</th>\n",
       "      <td>Houston</td>\n",
       "      <td>2296224</td>\n",
       "    </tr>\n",
       "  </tbody>\n",
       "</table>\n",
       "</div>"
      ],
      "text/plain": [
       "            name  population\n",
       "0  New York City     8175133\n",
       "1    Los Angeles     3971883\n",
       "2        Chicago     2720546\n",
       "3       Brooklyn     2300664\n",
       "4        Houston     2296224"
      ]
     },
     "execution_count": 234,
     "metadata": {},
     "output_type": "execute_result"
    }
   ],
   "source": [
    "cityPop.head()"
   ]
  },
  {
   "cell_type": "code",
   "execution_count": 263,
   "metadata": {},
   "outputs": [
    {
     "data": {
      "text/html": [
       "<div>\n",
       "<style scoped>\n",
       "    .dataframe tbody tr th:only-of-type {\n",
       "        vertical-align: middle;\n",
       "    }\n",
       "\n",
       "    .dataframe tbody tr th {\n",
       "        vertical-align: top;\n",
       "    }\n",
       "\n",
       "    .dataframe thead th {\n",
       "        text-align: right;\n",
       "    }\n",
       "</style>\n",
       "<table border=\"1\" class=\"dataframe\">\n",
       "  <thead>\n",
       "    <tr style=\"text-align: right;\">\n",
       "      <th></th>\n",
       "      <th>ID</th>\n",
       "      <th>Name</th>\n",
       "      <th>City</th>\n",
       "      <th>Country</th>\n",
       "      <th>IATA</th>\n",
       "      <th>Lat</th>\n",
       "      <th>Long</th>\n",
       "    </tr>\n",
       "  </thead>\n",
       "  <tbody>\n",
       "    <tr>\n",
       "      <th>0</th>\n",
       "      <td>3411</td>\n",
       "      <td>Barter Island LRRS Airport</td>\n",
       "      <td>Barter Island</td>\n",
       "      <td>United States</td>\n",
       "      <td>BTI</td>\n",
       "      <td>70.134003</td>\n",
       "      <td>-143.582001</td>\n",
       "    </tr>\n",
       "    <tr>\n",
       "      <th>1</th>\n",
       "      <td>3413</td>\n",
       "      <td>Cape Lisburne LRRS Airport</td>\n",
       "      <td>Cape Lisburne</td>\n",
       "      <td>United States</td>\n",
       "      <td>LUR</td>\n",
       "      <td>68.875099</td>\n",
       "      <td>-166.110001</td>\n",
       "    </tr>\n",
       "    <tr>\n",
       "      <th>2</th>\n",
       "      <td>3414</td>\n",
       "      <td>Point Lay LRRS Airport</td>\n",
       "      <td>Point Lay</td>\n",
       "      <td>United States</td>\n",
       "      <td>PIZ</td>\n",
       "      <td>69.732903</td>\n",
       "      <td>-163.005005</td>\n",
       "    </tr>\n",
       "    <tr>\n",
       "      <th>3</th>\n",
       "      <td>3415</td>\n",
       "      <td>Hilo International Airport</td>\n",
       "      <td>Hilo</td>\n",
       "      <td>United States</td>\n",
       "      <td>ITO</td>\n",
       "      <td>19.721399</td>\n",
       "      <td>-155.048004</td>\n",
       "    </tr>\n",
       "    <tr>\n",
       "      <th>4</th>\n",
       "      <td>3416</td>\n",
       "      <td>Orlando Executive Airport</td>\n",
       "      <td>Orlando</td>\n",
       "      <td>United States</td>\n",
       "      <td>ORL</td>\n",
       "      <td>28.545500</td>\n",
       "      <td>-81.332901</td>\n",
       "    </tr>\n",
       "  </tbody>\n",
       "</table>\n",
       "</div>"
      ],
      "text/plain": [
       "     ID                        Name           City        Country IATA  \\\n",
       "0  3411  Barter Island LRRS Airport  Barter Island  United States  BTI   \n",
       "1  3413  Cape Lisburne LRRS Airport  Cape Lisburne  United States  LUR   \n",
       "2  3414      Point Lay LRRS Airport      Point Lay  United States  PIZ   \n",
       "3  3415  Hilo International Airport           Hilo  United States  ITO   \n",
       "4  3416   Orlando Executive Airport        Orlando  United States  ORL   \n",
       "\n",
       "         Lat        Long  \n",
       "0  70.134003 -143.582001  \n",
       "1  68.875099 -166.110001  \n",
       "2  69.732903 -163.005005  \n",
       "3  19.721399 -155.048004  \n",
       "4  28.545500  -81.332901  "
      ]
     },
     "execution_count": 263,
     "metadata": {},
     "output_type": "execute_result"
    }
   ],
   "source": [
    "airport_data = pd.read_csv(\"../data/airport_data_openflights_cleaned.csv\")\n",
    "airport_data.head()"
   ]
  },
  {
   "cell_type": "code",
   "execution_count": 264,
   "metadata": {},
   "outputs": [
    {
     "data": {
      "text/html": [
       "<div>\n",
       "<style scoped>\n",
       "    .dataframe tbody tr th:only-of-type {\n",
       "        vertical-align: middle;\n",
       "    }\n",
       "\n",
       "    .dataframe tbody tr th {\n",
       "        vertical-align: top;\n",
       "    }\n",
       "\n",
       "    .dataframe thead th {\n",
       "        text-align: right;\n",
       "    }\n",
       "</style>\n",
       "<table border=\"1\" class=\"dataframe\">\n",
       "  <thead>\n",
       "    <tr style=\"text-align: right;\">\n",
       "      <th></th>\n",
       "      <th>ID</th>\n",
       "      <th>Name</th>\n",
       "      <th>City</th>\n",
       "      <th>Country</th>\n",
       "      <th>IATA</th>\n",
       "      <th>Lat</th>\n",
       "      <th>Long</th>\n",
       "      <th>population</th>\n",
       "    </tr>\n",
       "  </thead>\n",
       "  <tbody>\n",
       "    <tr>\n",
       "      <th>0</th>\n",
       "      <td>3411</td>\n",
       "      <td>Barter Island LRRS Airport</td>\n",
       "      <td>Barter Island</td>\n",
       "      <td>United States</td>\n",
       "      <td>BTI</td>\n",
       "      <td>70.134003</td>\n",
       "      <td>-143.582001</td>\n",
       "      <td>NaN</td>\n",
       "    </tr>\n",
       "    <tr>\n",
       "      <th>1</th>\n",
       "      <td>3413</td>\n",
       "      <td>Cape Lisburne LRRS Airport</td>\n",
       "      <td>Cape Lisburne</td>\n",
       "      <td>United States</td>\n",
       "      <td>LUR</td>\n",
       "      <td>68.875099</td>\n",
       "      <td>-166.110001</td>\n",
       "      <td>NaN</td>\n",
       "    </tr>\n",
       "    <tr>\n",
       "      <th>2</th>\n",
       "      <td>3414</td>\n",
       "      <td>Point Lay LRRS Airport</td>\n",
       "      <td>Point Lay</td>\n",
       "      <td>United States</td>\n",
       "      <td>PIZ</td>\n",
       "      <td>69.732903</td>\n",
       "      <td>-163.005005</td>\n",
       "      <td>NaN</td>\n",
       "    </tr>\n",
       "    <tr>\n",
       "      <th>3</th>\n",
       "      <td>3415</td>\n",
       "      <td>Hilo International Airport</td>\n",
       "      <td>Hilo</td>\n",
       "      <td>United States</td>\n",
       "      <td>ITO</td>\n",
       "      <td>19.721399</td>\n",
       "      <td>-155.048004</td>\n",
       "      <td>43263.0</td>\n",
       "    </tr>\n",
       "    <tr>\n",
       "      <th>4</th>\n",
       "      <td>3416</td>\n",
       "      <td>Orlando Executive Airport</td>\n",
       "      <td>Orlando</td>\n",
       "      <td>United States</td>\n",
       "      <td>ORL</td>\n",
       "      <td>28.545500</td>\n",
       "      <td>-81.332901</td>\n",
       "      <td>270934.0</td>\n",
       "    </tr>\n",
       "  </tbody>\n",
       "</table>\n",
       "</div>"
      ],
      "text/plain": [
       "     ID                        Name           City        Country IATA  \\\n",
       "0  3411  Barter Island LRRS Airport  Barter Island  United States  BTI   \n",
       "1  3413  Cape Lisburne LRRS Airport  Cape Lisburne  United States  LUR   \n",
       "2  3414      Point Lay LRRS Airport      Point Lay  United States  PIZ   \n",
       "3  3415  Hilo International Airport           Hilo  United States  ITO   \n",
       "4  3416   Orlando Executive Airport        Orlando  United States  ORL   \n",
       "\n",
       "         Lat        Long  population  \n",
       "0  70.134003 -143.582001         NaN  \n",
       "1  68.875099 -166.110001         NaN  \n",
       "2  69.732903 -163.005005         NaN  \n",
       "3  19.721399 -155.048004     43263.0  \n",
       "4  28.545500  -81.332901    270934.0  "
      ]
     },
     "execution_count": 264,
     "metadata": {},
     "output_type": "execute_result"
    }
   ],
   "source": [
    "airport_merged_data = pd.merge(\n",
    "    airport_data, \n",
    "    cityPop.rename(\n",
    "        columns={\"name\":\"City\"}\n",
    "    ).drop_duplicates(subset=['City']), \n",
    "    how='left',\n",
    "    on='City'\n",
    ")\n",
    "airport_merged_data.to_csv(\"../data/us_airport_population_merged.csv\")\n",
    "airport_merged_data.head()"
   ]
  },
  {
   "cell_type": "code",
   "execution_count": 277,
   "metadata": {},
   "outputs": [
    {
     "data": {
      "text/plain": [
       "ID             0.000000\n",
       "Name           0.000000\n",
       "City           0.000000\n",
       "Country        0.000000\n",
       "IATA           0.000000\n",
       "Lat            0.000000\n",
       "Long           0.000000\n",
       "population    25.259792\n",
       "dtype: float64"
      ]
     },
     "execution_count": 277,
     "metadata": {},
     "output_type": "execute_result"
    }
   ],
   "source": [
    "airport_merged_data.isnull().sum()/airport_merged_data.shape[0]*100"
   ]
  },
  {
   "cell_type": "markdown",
   "metadata": {},
   "source": [
    "### For 25% cities population is missing, so Hypothesis - the number of flights from the city is proportional to the city population"
   ]
  },
  {
   "cell_type": "code",
   "execution_count": 282,
   "metadata": {},
   "outputs": [
    {
     "data": {
      "text/html": [
       "<div>\n",
       "<style scoped>\n",
       "    .dataframe tbody tr th:only-of-type {\n",
       "        vertical-align: middle;\n",
       "    }\n",
       "\n",
       "    .dataframe tbody tr th {\n",
       "        vertical-align: top;\n",
       "    }\n",
       "\n",
       "    .dataframe thead th {\n",
       "        text-align: right;\n",
       "    }\n",
       "</style>\n",
       "<table border=\"1\" class=\"dataframe\">\n",
       "  <thead>\n",
       "    <tr style=\"text-align: right;\">\n",
       "      <th></th>\n",
       "      <th>source_airport</th>\n",
       "      <th>flights_per_month</th>\n",
       "    </tr>\n",
       "  </thead>\n",
       "  <tbody>\n",
       "    <tr>\n",
       "      <th>0</th>\n",
       "      <td>ABE</td>\n",
       "      <td>485</td>\n",
       "    </tr>\n",
       "    <tr>\n",
       "      <th>1</th>\n",
       "      <td>ABI</td>\n",
       "      <td>266</td>\n",
       "    </tr>\n",
       "    <tr>\n",
       "      <th>2</th>\n",
       "      <td>ABL</td>\n",
       "      <td>100</td>\n",
       "    </tr>\n",
       "    <tr>\n",
       "      <th>3</th>\n",
       "      <td>ABQ</td>\n",
       "      <td>2329</td>\n",
       "    </tr>\n",
       "    <tr>\n",
       "      <th>4</th>\n",
       "      <td>ABR</td>\n",
       "      <td>62</td>\n",
       "    </tr>\n",
       "  </tbody>\n",
       "</table>\n",
       "</div>"
      ],
      "text/plain": [
       "  source_airport  flights_per_month\n",
       "0            ABE                485\n",
       "1            ABI                266\n",
       "2            ABL                100\n",
       "3            ABQ               2329\n",
       "4            ABR                 62"
      ]
     },
     "execution_count": 282,
     "metadata": {},
     "output_type": "execute_result"
    }
   ],
   "source": [
    "flights_number = connections.groupby(\n",
    "    ['source_airport'], as_index=False\n",
    ")[['flights_per_month']].sum()\n",
    "flights_number.head()"
   ]
  },
  {
   "cell_type": "code",
   "execution_count": 283,
   "metadata": {},
   "outputs": [
    {
     "data": {
      "text/html": [
       "<div>\n",
       "<style scoped>\n",
       "    .dataframe tbody tr th:only-of-type {\n",
       "        vertical-align: middle;\n",
       "    }\n",
       "\n",
       "    .dataframe tbody tr th {\n",
       "        vertical-align: top;\n",
       "    }\n",
       "\n",
       "    .dataframe thead th {\n",
       "        text-align: right;\n",
       "    }\n",
       "</style>\n",
       "<table border=\"1\" class=\"dataframe\">\n",
       "  <thead>\n",
       "    <tr style=\"text-align: right;\">\n",
       "      <th></th>\n",
       "      <th>ID</th>\n",
       "      <th>Name</th>\n",
       "      <th>City</th>\n",
       "      <th>Country</th>\n",
       "      <th>IATA</th>\n",
       "      <th>Lat</th>\n",
       "      <th>Long</th>\n",
       "      <th>population</th>\n",
       "      <th>source_airport</th>\n",
       "      <th>flights_per_month</th>\n",
       "    </tr>\n",
       "  </thead>\n",
       "  <tbody>\n",
       "    <tr>\n",
       "      <th>0</th>\n",
       "      <td>3411</td>\n",
       "      <td>Barter Island LRRS Airport</td>\n",
       "      <td>Barter Island</td>\n",
       "      <td>United States</td>\n",
       "      <td>BTI</td>\n",
       "      <td>70.134003</td>\n",
       "      <td>-143.582001</td>\n",
       "      <td>NaN</td>\n",
       "      <td>BTI</td>\n",
       "      <td>27.0</td>\n",
       "    </tr>\n",
       "    <tr>\n",
       "      <th>1</th>\n",
       "      <td>3413</td>\n",
       "      <td>Cape Lisburne LRRS Airport</td>\n",
       "      <td>Cape Lisburne</td>\n",
       "      <td>United States</td>\n",
       "      <td>LUR</td>\n",
       "      <td>68.875099</td>\n",
       "      <td>-166.110001</td>\n",
       "      <td>NaN</td>\n",
       "      <td>LUR</td>\n",
       "      <td>4.0</td>\n",
       "    </tr>\n",
       "    <tr>\n",
       "      <th>2</th>\n",
       "      <td>3414</td>\n",
       "      <td>Point Lay LRRS Airport</td>\n",
       "      <td>Point Lay</td>\n",
       "      <td>United States</td>\n",
       "      <td>PIZ</td>\n",
       "      <td>69.732903</td>\n",
       "      <td>-163.005005</td>\n",
       "      <td>NaN</td>\n",
       "      <td>PIZ</td>\n",
       "      <td>27.0</td>\n",
       "    </tr>\n",
       "    <tr>\n",
       "      <th>3</th>\n",
       "      <td>3415</td>\n",
       "      <td>Hilo International Airport</td>\n",
       "      <td>Hilo</td>\n",
       "      <td>United States</td>\n",
       "      <td>ITO</td>\n",
       "      <td>19.721399</td>\n",
       "      <td>-155.048004</td>\n",
       "      <td>43263.0</td>\n",
       "      <td>ITO</td>\n",
       "      <td>634.0</td>\n",
       "    </tr>\n",
       "    <tr>\n",
       "      <th>4</th>\n",
       "      <td>3416</td>\n",
       "      <td>Orlando Executive Airport</td>\n",
       "      <td>Orlando</td>\n",
       "      <td>United States</td>\n",
       "      <td>ORL</td>\n",
       "      <td>28.545500</td>\n",
       "      <td>-81.332901</td>\n",
       "      <td>270934.0</td>\n",
       "      <td>NaN</td>\n",
       "      <td>NaN</td>\n",
       "    </tr>\n",
       "  </tbody>\n",
       "</table>\n",
       "</div>"
      ],
      "text/plain": [
       "     ID                        Name           City        Country IATA  \\\n",
       "0  3411  Barter Island LRRS Airport  Barter Island  United States  BTI   \n",
       "1  3413  Cape Lisburne LRRS Airport  Cape Lisburne  United States  LUR   \n",
       "2  3414      Point Lay LRRS Airport      Point Lay  United States  PIZ   \n",
       "3  3415  Hilo International Airport           Hilo  United States  ITO   \n",
       "4  3416   Orlando Executive Airport        Orlando  United States  ORL   \n",
       "\n",
       "         Lat        Long  population source_airport  flights_per_month  \n",
       "0  70.134003 -143.582001         NaN            BTI               27.0  \n",
       "1  68.875099 -166.110001         NaN            LUR                4.0  \n",
       "2  69.732903 -163.005005         NaN            PIZ               27.0  \n",
       "3  19.721399 -155.048004     43263.0            ITO              634.0  \n",
       "4  28.545500  -81.332901    270934.0            NaN                NaN  "
      ]
     },
     "execution_count": 283,
     "metadata": {},
     "output_type": "execute_result"
    }
   ],
   "source": [
    "# adding source airport number of flights to the airport dataframe\n",
    "airport_merged_data_with_flightsCount = pd.merge(\n",
    "    airport_merged_data, flights_number, \n",
    "    how='left', \n",
    "    left_on='IATA', \n",
    "    right_on='source_airport'\n",
    ")\n",
    "airport_merged_data_with_flightsCount.head()"
   ]
  },
  {
   "cell_type": "code",
   "execution_count": 313,
   "metadata": {},
   "outputs": [
    {
     "data": {
      "text/html": [
       "<div>\n",
       "<style scoped>\n",
       "    .dataframe tbody tr th:only-of-type {\n",
       "        vertical-align: middle;\n",
       "    }\n",
       "\n",
       "    .dataframe tbody tr th {\n",
       "        vertical-align: top;\n",
       "    }\n",
       "\n",
       "    .dataframe thead th {\n",
       "        text-align: right;\n",
       "    }\n",
       "</style>\n",
       "<table border=\"1\" class=\"dataframe\">\n",
       "  <thead>\n",
       "    <tr style=\"text-align: right;\">\n",
       "      <th></th>\n",
       "      <th>ID</th>\n",
       "      <th>Name</th>\n",
       "      <th>City</th>\n",
       "      <th>Country</th>\n",
       "      <th>IATA</th>\n",
       "      <th>Lat</th>\n",
       "      <th>Long</th>\n",
       "      <th>population</th>\n",
       "      <th>source_airport</th>\n",
       "      <th>flights_per_month</th>\n",
       "    </tr>\n",
       "  </thead>\n",
       "  <tbody>\n",
       "    <tr>\n",
       "      <th>0</th>\n",
       "      <td>3411</td>\n",
       "      <td>Barter Island LRRS Airport</td>\n",
       "      <td>Barter Island</td>\n",
       "      <td>United States</td>\n",
       "      <td>BTI</td>\n",
       "      <td>70.134003</td>\n",
       "      <td>-143.582001</td>\n",
       "      <td>NaN</td>\n",
       "      <td>BTI</td>\n",
       "      <td>27.0</td>\n",
       "    </tr>\n",
       "    <tr>\n",
       "      <th>1</th>\n",
       "      <td>3413</td>\n",
       "      <td>Cape Lisburne LRRS Airport</td>\n",
       "      <td>Cape Lisburne</td>\n",
       "      <td>United States</td>\n",
       "      <td>LUR</td>\n",
       "      <td>68.875099</td>\n",
       "      <td>-166.110001</td>\n",
       "      <td>NaN</td>\n",
       "      <td>LUR</td>\n",
       "      <td>4.0</td>\n",
       "    </tr>\n",
       "    <tr>\n",
       "      <th>2</th>\n",
       "      <td>3414</td>\n",
       "      <td>Point Lay LRRS Airport</td>\n",
       "      <td>Point Lay</td>\n",
       "      <td>United States</td>\n",
       "      <td>PIZ</td>\n",
       "      <td>69.732903</td>\n",
       "      <td>-163.005005</td>\n",
       "      <td>NaN</td>\n",
       "      <td>PIZ</td>\n",
       "      <td>27.0</td>\n",
       "    </tr>\n",
       "    <tr>\n",
       "      <th>3</th>\n",
       "      <td>3415</td>\n",
       "      <td>Hilo International Airport</td>\n",
       "      <td>Hilo</td>\n",
       "      <td>United States</td>\n",
       "      <td>ITO</td>\n",
       "      <td>19.721399</td>\n",
       "      <td>-155.048004</td>\n",
       "      <td>43263.0</td>\n",
       "      <td>ITO</td>\n",
       "      <td>634.0</td>\n",
       "    </tr>\n",
       "    <tr>\n",
       "      <th>5</th>\n",
       "      <td>3417</td>\n",
       "      <td>Bettles Airport</td>\n",
       "      <td>Bettles</td>\n",
       "      <td>United States</td>\n",
       "      <td>BTT</td>\n",
       "      <td>66.913902</td>\n",
       "      <td>-151.529007</td>\n",
       "      <td>NaN</td>\n",
       "      <td>BTT</td>\n",
       "      <td>31.0</td>\n",
       "    </tr>\n",
       "  </tbody>\n",
       "</table>\n",
       "</div>"
      ],
      "text/plain": [
       "     ID                        Name           City        Country IATA  \\\n",
       "0  3411  Barter Island LRRS Airport  Barter Island  United States  BTI   \n",
       "1  3413  Cape Lisburne LRRS Airport  Cape Lisburne  United States  LUR   \n",
       "2  3414      Point Lay LRRS Airport      Point Lay  United States  PIZ   \n",
       "3  3415  Hilo International Airport           Hilo  United States  ITO   \n",
       "5  3417             Bettles Airport        Bettles  United States  BTT   \n",
       "\n",
       "         Lat        Long  population source_airport  flights_per_month  \n",
       "0  70.134003 -143.582001         NaN            BTI               27.0  \n",
       "1  68.875099 -166.110001         NaN            LUR                4.0  \n",
       "2  69.732903 -163.005005         NaN            PIZ               27.0  \n",
       "3  19.721399 -155.048004     43263.0            ITO              634.0  \n",
       "5  66.913902 -151.529007         NaN            BTT               31.0  "
      ]
     },
     "execution_count": 313,
     "metadata": {},
     "output_type": "execute_result"
    }
   ],
   "source": [
    "airport_data = airport_merged_data_with_flightsCount[~airport_merged_data_with_flightsCount.source_airport.isnull()]\n",
    "airport_data = airport_data[~airport_data.flights_per_month.isnull()]\n",
    "airport_data.head()"
   ]
  },
  {
   "cell_type": "code",
   "execution_count": 314,
   "metadata": {},
   "outputs": [
    {
     "data": {
      "text/plain": [
       "ID                    0.000000\n",
       "Name                  0.000000\n",
       "City                  0.000000\n",
       "Country               0.000000\n",
       "IATA                  0.000000\n",
       "Lat                   0.000000\n",
       "Long                  0.000000\n",
       "population           27.548807\n",
       "source_airport        0.000000\n",
       "flights_per_month     0.000000\n",
       "dtype: float64"
      ]
     },
     "execution_count": 314,
     "metadata": {},
     "output_type": "execute_result"
    }
   ],
   "source": [
    "airport_data.isnull().sum()/airport_data.shape[0]*100"
   ]
  },
  {
   "cell_type": "markdown",
   "metadata": {},
   "source": [
    "### Find USA Population from https://worldpopulationreview.com/countries/united-states-population"
   ]
  },
  {
   "cell_type": "code",
   "execution_count": 315,
   "metadata": {},
   "outputs": [],
   "source": [
    "population_link = \"https://worldpopulationreview.com/countries/united-states-population\"\n",
    "soup = get_soup(population_link)"
   ]
  },
  {
   "cell_type": "code",
   "execution_count": 316,
   "metadata": {},
   "outputs": [
    {
     "data": {
      "text/plain": [
       "331848096"
      ]
     },
     "execution_count": 316,
     "metadata": {},
     "output_type": "execute_result"
    }
   ],
   "source": [
    "usa_population = soup.find(\"span\", attrs={\"style\":\"font-size: 36px;\"}).text\n",
    "usa_population = int(usa_population.replace(',',''))\n",
    "usa_population"
   ]
  },
  {
   "cell_type": "code",
   "execution_count": 317,
   "metadata": {},
   "outputs": [],
   "source": [
    "# average population per flight\n",
    "flights_coefs = airport_data[\n",
    "    ~airport_data.population.isnull()\n",
    "].groupby(\"Country\")[['flights_per_month']].sum()\n",
    "flights_coefs['total_population'] = usa_population\n",
    "flights_coefs['coef'] = usa_population/flights_coefs['flights_per_month']"
   ]
  },
  {
   "cell_type": "code",
   "execution_count": 318,
   "metadata": {},
   "outputs": [
    {
     "data": {
      "text/html": [
       "<div>\n",
       "<style scoped>\n",
       "    .dataframe tbody tr th:only-of-type {\n",
       "        vertical-align: middle;\n",
       "    }\n",
       "\n",
       "    .dataframe tbody tr th {\n",
       "        vertical-align: top;\n",
       "    }\n",
       "\n",
       "    .dataframe thead th {\n",
       "        text-align: right;\n",
       "    }\n",
       "</style>\n",
       "<table border=\"1\" class=\"dataframe\">\n",
       "  <thead>\n",
       "    <tr style=\"text-align: right;\">\n",
       "      <th></th>\n",
       "      <th>flights_per_month</th>\n",
       "      <th>total_population</th>\n",
       "      <th>coef</th>\n",
       "    </tr>\n",
       "    <tr>\n",
       "      <th>Country</th>\n",
       "      <th></th>\n",
       "      <th></th>\n",
       "      <th></th>\n",
       "    </tr>\n",
       "  </thead>\n",
       "  <tbody>\n",
       "    <tr>\n",
       "      <th>United States</th>\n",
       "      <td>740535.0</td>\n",
       "      <td>331848096</td>\n",
       "      <td>448.119395</td>\n",
       "    </tr>\n",
       "  </tbody>\n",
       "</table>\n",
       "</div>"
      ],
      "text/plain": [
       "               flights_per_month  total_population        coef\n",
       "Country                                                       \n",
       "United States           740535.0         331848096  448.119395"
      ]
     },
     "execution_count": 318,
     "metadata": {},
     "output_type": "execute_result"
    }
   ],
   "source": [
    "flights_coefs"
   ]
  },
  {
   "cell_type": "markdown",
   "metadata": {},
   "source": [
    "### Using this coefficient to fill the missing population data"
   ]
  },
  {
   "cell_type": "code",
   "execution_count": 319,
   "metadata": {},
   "outputs": [],
   "source": [
    "airport_data['flights_coefficient'] = airport_data.Country.map(flights_coefs.coef)\n",
    "airport_data['flights_coefficient'].fillna(airport_data['flights_coefficient'].median(), inplace=True)"
   ]
  },
  {
   "cell_type": "code",
   "execution_count": 320,
   "metadata": {},
   "outputs": [
    {
     "name": "stderr",
     "output_type": "stream",
     "text": [
      "<ipython-input-320-e5d88e543a9d>:4: SettingWithCopyWarning: \n",
      "A value is trying to be set on a copy of a slice from a DataFrame\n",
      "\n",
      "See the caveats in the documentation: https://pandas.pydata.org/pandas-docs/stable/user_guide/indexing.html#returning-a-view-versus-a-copy\n",
      "  airport_data.population[airport_data.population.isnull()] = city_estimates\n"
     ]
    }
   ],
   "source": [
    "city_estimates = np.ceil(airport_data.flights_coefficient[airport_data.population.isnull()] *\\\n",
    "                 airport_data.flights_per_month[airport_data.population.isnull()])\n",
    "\n",
    "airport_data.population[airport_data.population.isnull()] = city_estimates"
   ]
  },
  {
   "cell_type": "code",
   "execution_count": 321,
   "metadata": {},
   "outputs": [
    {
     "data": {
      "text/plain": [
       "ID                     0.0\n",
       "Name                   0.0\n",
       "City                   0.0\n",
       "Country                0.0\n",
       "IATA                   0.0\n",
       "Lat                    0.0\n",
       "Long                   0.0\n",
       "population             0.0\n",
       "source_airport         0.0\n",
       "flights_per_month      0.0\n",
       "flights_coefficient    0.0\n",
       "dtype: float64"
      ]
     },
     "execution_count": 321,
     "metadata": {},
     "output_type": "execute_result"
    }
   ],
   "source": [
    "airport_data.isnull().sum()/airport_data.shape[0]*100"
   ]
  },
  {
   "cell_type": "markdown",
   "metadata": {},
   "source": [
    "### Cleaning connections data"
   ]
  },
  {
   "cell_type": "code",
   "execution_count": 322,
   "metadata": {},
   "outputs": [],
   "source": [
    "connections = connections[connections.source_airport.isin(airport_data.IATA)]\n",
    "connections = connections[connections.dest_airport.isin(airport_data.IATA)]"
   ]
  },
  {
   "cell_type": "markdown",
   "metadata": {},
   "source": [
    "### Get daily flights estimates"
   ]
  },
  {
   "cell_type": "code",
   "execution_count": 323,
   "metadata": {},
   "outputs": [],
   "source": [
    "connections.flights_per_month = connections.flights_per_month/30"
   ]
  },
  {
   "cell_type": "code",
   "execution_count": 324,
   "metadata": {},
   "outputs": [],
   "source": [
    "airport_data.to_csv(\"../data/airport_data_preprocessed.csv\")\n",
    "connections.to_csv(\"../data/connections_preprocessed.csv\")"
   ]
  },
  {
   "cell_type": "code",
   "execution_count": null,
   "metadata": {},
   "outputs": [],
   "source": []
  }
 ],
 "metadata": {
  "kernelspec": {
   "display_name": "Python 3",
   "language": "python",
   "name": "python3"
  },
  "language_info": {
   "codemirror_mode": {
    "name": "ipython",
    "version": 3
   },
   "file_extension": ".py",
   "mimetype": "text/x-python",
   "name": "python",
   "nbconvert_exporter": "python",
   "pygments_lexer": "ipython3",
   "version": "3.8.5"
  }
 },
 "nbformat": 4,
 "nbformat_minor": 4
}
