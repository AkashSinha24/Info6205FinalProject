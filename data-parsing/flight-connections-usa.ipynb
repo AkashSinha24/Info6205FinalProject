{
 "cells": [
  {
   "cell_type": "markdown",
   "metadata": {},
   "source": [
    "**Fetching all USA airports information"
   ]
  },
  {
   "cell_type": "code",
   "execution_count": 1,
   "metadata": {},
   "outputs": [],
   "source": [
    "import requests\n",
    "import re\n",
    "from bs4 import BeautifulSoup\n",
    "import pandas as pd\n",
    "import time\n",
    "import sys\n",
    "\n",
    "\n",
    "from typing import Dict, List\n",
    "from tqdm import tqdm_notebook\n",
    "from fake_useragent import UserAgent"
   ]
  },
  {
   "cell_type": "code",
   "execution_count": 2,
   "metadata": {},
   "outputs": [],
   "source": [
    "url_main = \"https://www.flightconnections.com/\"\n",
    "url_codes = \"airport-codes\""
   ]
  },
  {
   "cell_type": "code",
   "execution_count": 3,
   "metadata": {},
   "outputs": [],
   "source": [
    "def get_soup(url):\n",
    "    res = requests.get(url, headers={'User-Agent': UserAgent().chrome})\n",
    "    html = res.content\n",
    "    soup = BeautifulSoup(html, 'lxml')\n",
    "    return soup"
   ]
  },
  {
   "cell_type": "code",
   "execution_count": 4,
   "metadata": {},
   "outputs": [],
   "source": [
    "soup = get_soup(url_main + url_codes)"
   ]
  },
  {
   "cell_type": "code",
   "execution_count": 11,
   "metadata": {},
   "outputs": [],
   "source": [
    "airport_list = soup.findAll(\"ul\", attrs={\"class\":\"airport-list\"})\n",
    "airport_list = [airport_group.findAll(\"li\") for airport_group in airport_list]\n",
    "airport_list = sum(airport_list, [])"
   ]
  },
  {
   "cell_type": "code",
   "execution_count": 12,
   "metadata": {},
   "outputs": [],
   "source": [
    "def get_airport_info(airport)->Dict[str,str]:\n",
    "    link = airport.find(\"a\").get(\"href\")\n",
    "    code = airport.find(\"span\", attrs={\"class\":\"airport-code\"}).text\n",
    "    name = airport.find(\"span\", attrs={\"class\":\"airport-name\"}).text\n",
    "    city_country = airport.find(\"span\", attrs={\"class\":\"airport-city-country\"}).text\n",
    "    cc = city_country.split(\", \")\n",
    "    city = cc[0]\n",
    "    country = cc[1]\n",
    "    return {\"link\":link, \"code\":code, \"name\":name, \"city\":city, \"country\":country}"
   ]
  },
  {
   "cell_type": "code",
   "execution_count": 13,
   "metadata": {},
   "outputs": [
    {
     "name": "stderr",
     "output_type": "stream",
     "text": [
      "<ipython-input-13-c2e010333845>:3: TqdmDeprecationWarning: This function will be removed in tqdm==5.0.0\n",
      "Please use `tqdm.notebook.tqdm` instead of `tqdm.tqdm_notebook`\n",
      "  for airport in tqdm_notebook(airport_list):\n"
     ]
    },
    {
     "data": {
      "application/vnd.jupyter.widget-view+json": {
       "model_id": "53be2323465c49c99b95fd73dc9966c9",
       "version_major": 2,
       "version_minor": 0
      },
      "text/plain": [
       "HBox(children=(HTML(value=''), FloatProgress(value=0.0, max=3754.0), HTML(value='')))"
      ]
     },
     "metadata": {},
     "output_type": "display_data"
    },
    {
     "name": "stdout",
     "output_type": "stream",
     "text": [
      "\n"
     ]
    }
   ],
   "source": [
    "airport_info = []\n",
    "\n",
    "for airport in tqdm_notebook(airport_list):\n",
    "    airport = get_airport_info(airport)\n",
    "    if airport[\"country\"] == \"United States\":\n",
    "        airport_info.append(airport)"
   ]
  },
  {
   "cell_type": "code",
   "execution_count": 14,
   "metadata": {},
   "outputs": [],
   "source": [
    "result = pd.DataFrame(airport_info)\n",
    "result.to_csv(\"../data/airport_info.csv\")"
   ]
  },
  {
   "cell_type": "code",
   "execution_count": 16,
   "metadata": {},
   "outputs": [
    {
     "data": {
      "text/html": [
       "<div>\n",
       "<style scoped>\n",
       "    .dataframe tbody tr th:only-of-type {\n",
       "        vertical-align: middle;\n",
       "    }\n",
       "\n",
       "    .dataframe tbody tr th {\n",
       "        vertical-align: top;\n",
       "    }\n",
       "\n",
       "    .dataframe thead th {\n",
       "        text-align: right;\n",
       "    }\n",
       "</style>\n",
       "<table border=\"1\" class=\"dataframe\">\n",
       "  <thead>\n",
       "    <tr style=\"text-align: right;\">\n",
       "      <th></th>\n",
       "      <th>link</th>\n",
       "      <th>code</th>\n",
       "      <th>name</th>\n",
       "      <th>city</th>\n",
       "      <th>country</th>\n",
       "    </tr>\n",
       "  </thead>\n",
       "  <tbody>\n",
       "    <tr>\n",
       "      <th>0</th>\n",
       "      <td>/flights-to-allentown-abe</td>\n",
       "      <td>ABE</td>\n",
       "      <td>Lehigh Valley International Airpo</td>\n",
       "      <td>Allentown</td>\n",
       "      <td>United States</td>\n",
       "    </tr>\n",
       "    <tr>\n",
       "      <th>1</th>\n",
       "      <td>/flights-to-abilene-abi</td>\n",
       "      <td>ABI</td>\n",
       "      <td>Abilene Regional Airport</td>\n",
       "      <td>Abilene</td>\n",
       "      <td>United States</td>\n",
       "    </tr>\n",
       "    <tr>\n",
       "      <th>2</th>\n",
       "      <td>/flights-to-ambler-abl</td>\n",
       "      <td>ABL</td>\n",
       "      <td>Ambler Airport (FAA: AFM)</td>\n",
       "      <td>Ambler</td>\n",
       "      <td>United States</td>\n",
       "    </tr>\n",
       "    <tr>\n",
       "      <th>3</th>\n",
       "      <td>/flights-to-albuquerque-abq</td>\n",
       "      <td>ABQ</td>\n",
       "      <td>Albuquerque International Sunport</td>\n",
       "      <td>Albuquerque</td>\n",
       "      <td>United States</td>\n",
       "    </tr>\n",
       "    <tr>\n",
       "      <th>4</th>\n",
       "      <td>/flights-to-aberdeen-abr</td>\n",
       "      <td>ABR</td>\n",
       "      <td>Aberdeen Regional Airport</td>\n",
       "      <td>Aberdeen</td>\n",
       "      <td>United States</td>\n",
       "    </tr>\n",
       "  </tbody>\n",
       "</table>\n",
       "</div>"
      ],
      "text/plain": [
       "                          link code                               name  \\\n",
       "0    /flights-to-allentown-abe  ABE  Lehigh Valley International Airpo   \n",
       "1      /flights-to-abilene-abi  ABI           Abilene Regional Airport   \n",
       "2       /flights-to-ambler-abl  ABL          Ambler Airport (FAA: AFM)   \n",
       "3  /flights-to-albuquerque-abq  ABQ  Albuquerque International Sunport   \n",
       "4     /flights-to-aberdeen-abr  ABR          Aberdeen Regional Airport   \n",
       "\n",
       "          city        country  \n",
       "0    Allentown  United States  \n",
       "1      Abilene  United States  \n",
       "2       Ambler  United States  \n",
       "3  Albuquerque  United States  \n",
       "4     Aberdeen  United States  "
      ]
     },
     "execution_count": 16,
     "metadata": {},
     "output_type": "execute_result"
    }
   ],
   "source": [
    "airport_info = pd.read_csv(\"../data/airport_info.csv\", index_col=0)\n",
    "airport_info.head()"
   ]
  },
  {
   "cell_type": "markdown",
   "metadata": {},
   "source": [
    "**Visiting every airport link in USA and finding connections in USA"
   ]
  },
  {
   "cell_type": "code",
   "execution_count": null,
   "metadata": {},
   "outputs": [],
   "source": []
  }
 ],
 "metadata": {
  "kernelspec": {
   "display_name": "Python 3",
   "language": "python",
   "name": "python3"
  },
  "language_info": {
   "codemirror_mode": {
    "name": "ipython",
    "version": 3
   },
   "file_extension": ".py",
   "mimetype": "text/x-python",
   "name": "python",
   "nbconvert_exporter": "python",
   "pygments_lexer": "ipython3",
   "version": "3.8.5"
  }
 },
 "nbformat": 4,
 "nbformat_minor": 4
}
